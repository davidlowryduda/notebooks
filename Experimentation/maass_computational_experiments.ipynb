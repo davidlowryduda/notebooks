{
 "cells": [
  {
   "cell_type": "markdown",
   "metadata": {},
   "source": [
    "# Computational Experiments on Maass Forms"
   ]
  },
  {
   "cell_type": "code",
   "execution_count": 1,
   "metadata": {},
   "outputs": [],
   "source": [
    "T = matrix([[1, 1], [0, 1]])\n",
    "S = matrix([[0, -1], [1, 0]])\n",
    "Id = matrix([[1, 0], [0, 1]])\n",
    "\n",
    "def act(gamma, z):\n",
    "    \"\"\"\n",
    "    Computes the action of matrix gamma on point z\n",
    "    \"\"\"\n",
    "    a, b = gamma[0]\n",
    "    c, d = gamma[1]\n",
    "    return (a*z + b)/ (c*z + d)\n",
    "\n",
    "def is_in_fund_domain(z):\n",
    "    \"\"\"\n",
    "    True if z is in fundamental domain, False otherwise.\n",
    "    \"\"\"\n",
    "    x = z.real()\n",
    "    if x < -1/2 or x > 1/2:\n",
    "        return False\n",
    "    if z.norm() < 1:\n",
    "        return False\n",
    "    return True\n",
    "\n",
    "\n",
    "def pullback(z):\n",
    "    \"\"\"\n",
    "    Returns matrix gamma, point z^*, where gamma z = z^* and z^* is in the fundamental domain\n",
    "    \"\"\"\n",
    "    gamma = Id\n",
    "    while not is_in_fund_domain(z):\n",
    "        x, y = z.real(), z.imag()\n",
    "        xshift = -floor(x + .5)\n",
    "        gamma = T**xshift * gamma\n",
    "        z = x + xshift + i*y\n",
    "        if z.norm() < 1:\n",
    "            z = act(S, z)\n",
    "            gamma = S * gamma\n",
    "    return gamma, z"
   ]
  },
  {
   "cell_type": "code",
   "execution_count": 2,
   "metadata": {},
   "outputs": [
    {
     "data": {
      "text/plain": [
       "(\n",
       "[-2  7]                    \n",
       "[ 1 -4], 2.00000000000000*I\n",
       ")"
      ]
     },
     "execution_count": 2,
     "metadata": {},
     "output_type": "execute_result"
    }
   ],
   "source": [
    "pullback(CC(3.75 + .25*I))"
   ]
  },
  {
   "cell_type": "code",
   "execution_count": 3,
   "metadata": {},
   "outputs": [
    {
     "data": {
      "text/plain": [
       "(\n",
       "[-2  7]                                               \n",
       "[ 1 -4], -4.440892098500626e-16 + 1.9999999999999996*I\n",
       ")"
      ]
     },
     "execution_count": 3,
     "metadata": {},
     "output_type": "execute_result"
    }
   ],
   "source": [
    "pullback(CDF(3.75 + .25*I))"
   ]
  },
  {
   "cell_type": "code",
   "execution_count": 4,
   "metadata": {},
   "outputs": [
    {
     "data": {
      "text/plain": [
       "0.0401564311281942"
      ]
     },
     "execution_count": 4,
     "metadata": {},
     "output_type": "execute_result"
    }
   ],
   "source": [
    "bessel_K(CC(1.0), CC(3.0))"
   ]
  },
  {
   "cell_type": "code",
   "execution_count": 5,
   "metadata": {},
   "outputs": [
    {
     "data": {
      "text/plain": [
       "0.040156431128194184"
      ]
     },
     "execution_count": 5,
     "metadata": {},
     "output_type": "execute_result"
    }
   ],
   "source": [
    "bessel_K(CDF(1.0), CDF(3.0))"
   ]
  },
  {
   "cell_type": "code",
   "execution_count": 6,
   "metadata": {},
   "outputs": [],
   "source": [
    "def kappa(r, u):\n",
    "    return (exp(CC(pi) * CC(r) / 2) * bessel_K(CC(i*r), CC(u)))\n",
    "#def kappa(r, u):\n",
    "#    return bessel_K(CDF(i*r), CDF(u))"
   ]
  },
  {
   "cell_type": "code",
   "execution_count": 7,
   "metadata": {},
   "outputs": [],
   "source": [
    "def make_zj_list(Y, Q=50):\n",
    "    \"\"\"\n",
    "    Returns list of z_j = x_j + iY\n",
    "    \"\"\"\n",
    "    ret = []\n",
    "    for j in range(1-Q, Q+1):\n",
    "        ret.append((1/(2*Q)*(j - 0.5) + i*Y))\n",
    "    return ret\n",
    "\n",
    "def make_zjstar_list(zjlist):\n",
    "    \"\"\"\n",
    "    Returns list of z_j^* in same order as zjlist\n",
    "    \"\"\"\n",
    "    return list(map(lambda zj: pullback(zj)[1], zjlist))"
   ]
  },
  {
   "cell_type": "code",
   "execution_count": 8,
   "metadata": {},
   "outputs": [
    {
     "name": "stdout",
     "output_type": "stream",
     "text": [
      "-0.437500000000000 + 0.500000000000000*I\n",
      "-0.312500000000000 + 0.500000000000000*I\n",
      "-0.187500000000000 + 0.500000000000000*I\n",
      "-0.0625000000000000 + 0.500000000000000*I\n",
      "0.0625000000000000 + 0.500000000000000*I\n",
      "0.187500000000000 + 0.500000000000000*I\n",
      "0.312500000000000 + 0.500000000000000*I\n",
      "0.437500000000000 + 0.500000000000000*I\n"
     ]
    }
   ],
   "source": [
    "test_zj_list = make_zj_list(0.5, Q=4)\n",
    "for elem in test_zj_list:\n",
    "    print(elem)"
   ]
  },
  {
   "cell_type": "code",
   "execution_count": 9,
   "metadata": {},
   "outputs": [
    {
     "name": "stdout",
     "output_type": "stream",
     "text": [
      "-0.00884955752212391 + 1.13274336283186*I\n",
      "-0.101123595505618 + 1.43820224719101*I\n",
      "-0.342465753424658 + 1.75342465753425*I\n",
      "0.246153846153846 + 1.96923076923077*I\n",
      "-0.246153846153846 + 1.96923076923077*I\n",
      "0.342465753424658 + 1.75342465753425*I\n",
      "0.101123595505618 + 1.43820224719101*I\n",
      "0.00884955752212391 + 1.13274336283186*I\n"
     ]
    }
   ],
   "source": [
    "test_zjstar_list = make_zjstar_list(test_zj_list)\n",
    "for elem in test_zjstar_list:\n",
    "    print(elem)"
   ]
  },
  {
   "cell_type": "code",
   "execution_count": 10,
   "metadata": {},
   "outputs": [
    {
     "name": "stdout",
     "output_type": "stream",
     "text": [
      "Passed.\n"
     ]
    }
   ],
   "source": [
    "def perform_sanity_check_zjstar(zjlist, zjstarlist):\n",
    "    for zj, zjstar in zip(zjlist, zjstarlist):\n",
    "        mat, _ = pullback(zj)\n",
    "        assert (act(mat, CC(zj)) - zjstar).norm() < 0.00000001\n",
    "    print(\"Passed.\")\n",
    "perform_sanity_check_zjstar(test_zj_list, test_zjstar_list)"
   ]
  },
  {
   "cell_type": "code",
   "execution_count": 11,
   "metadata": {},
   "outputs": [],
   "source": [
    "def V(n, l, zjlist, r, Q, zjstarlist=None):\n",
    "    \"\"\"\n",
    "    Return the constant V(n, l) --- which also depends on zj, r, and Q --- as\n",
    "    defined above.\n",
    "    \"\"\"\n",
    "    if zjstarlist is None:\n",
    "        zjstarlist = make_zjstar_list(zjlist)\n",
    "    ret = CDF(0)\n",
    "    assert len(zjstarlist) == 2*Q\n",
    "    for zj, zjs in zip(zjlist, zjstarlist):\n",
    "        xj = zj.real()\n",
    "        xjs = zjs.real()\n",
    "        yjs = zjs.imag()\n",
    "        ret += (sqrt(yjs)) * kappa(r, 2 * pi * abs(l) * yjs) * (exp(2*pi*i*(l * xjs - n * xj)))\n",
    "    ret = ret / (2*Q)\n",
    "    return CDF(ret)"
   ]
  },
  {
   "cell_type": "markdown",
   "metadata": {},
   "source": [
    "## Large Speedup TODO\n",
    "\n",
    "Essentially all computation time is spent currently computing $V(n, l)$ in order to make the matrix. There are $Q^2$ matrix entries, each formed from a sum of $Q$ values. And right now, I'm computing all $Q^3$ K-Bessel functions. But this is excessive. In fact, there are at most $Q^2$ K-Bessel functions that need to be computed:\n",
    "$$ K_{ir}(2 \\pi \\lvert \\ell \\rvert y_j^*),$$\n",
    "where $1 \\leq \\lvert \\ell \\rvert \\leq Q$ and $j \\in [-Q, Q]$.\n",
    "\n",
    "Rewriting the matrix-generation code to take advantage of this with caching would make it a $Q^2$ operation (assuming that the Bessel functions are where all of the computation time is being spent).\n",
    "\n",
    "Section 3.4 of [this paper](http://www2.math.uu.se/~astrombe/papers/kbessel.pdf) gives a further improvement for repeated honing in, as only the values of $r$ are changing. Sections 3.2 and 3.3 might give improvements for an individual run --- I don't quite understand the implied algorithms.\n",
    "\n",
    "The matrix-generation code should also be vectorized as much as possible."
   ]
  },
  {
   "cell_type": "code",
   "execution_count": 12,
   "metadata": {},
   "outputs": [
    {
     "data": {
      "text/plain": [
       "-0.0016458022812606853 + 1.6263032587282567e-19*I"
      ]
     },
     "execution_count": 12,
     "metadata": {},
     "output_type": "execute_result"
    }
   ],
   "source": [
    "V(3, 1, test_zj_list, 9.5**.5, 4)"
   ]
  },
  {
   "cell_type": "code",
   "execution_count": 13,
   "metadata": {},
   "outputs": [],
   "source": [
    "import time"
   ]
  },
  {
   "cell_type": "code",
   "execution_count": 14,
   "metadata": {},
   "outputs": [
    {
     "name": "stdout",
     "output_type": "stream",
     "text": [
      "-0.0016458022812606853 + 1.6263032587282567e-19*I\n",
      "Took 0.047792673110961914\n"
     ]
    }
   ],
   "source": [
    "now = time.time()\n",
    "print(V(3, 1, test_zj_list, 9.5**.5, 4))\n",
    "print(\"Took {}\".format(time.time() - now))"
   ]
  },
  {
   "cell_type": "code",
   "execution_count": null,
   "metadata": {},
   "outputs": [],
   "source": []
  },
  {
   "cell_type": "code",
   "execution_count": null,
   "metadata": {},
   "outputs": [],
   "source": []
  },
  {
   "cell_type": "code",
   "execution_count": 15,
   "metadata": {},
   "outputs": [],
   "source": [
    "def make_matrix(size, Y, r, withtime=True):\n",
    "    if withtime:\n",
    "        now = time.time()\n",
    "    Q = size\n",
    "    zjlist = make_zj_list(Y, Q)\n",
    "    zjstarlist = make_zjstar_list(zjlist)\n",
    "    if withtime:\n",
    "        print(\"lists made in {}\".format(time.time() - now))\n",
    "    matrix = []\n",
    "    B = []\n",
    "    for n in range(-Q, Q+1):\n",
    "        if withtime:\n",
    "            now = time.time()\n",
    "        if n == 0:\n",
    "            continue\n",
    "        row = []\n",
    "        for l in range(-Q, Q+1):\n",
    "            if l == 0:\n",
    "                continue\n",
    "            entry = CDF(V(n, l, zjlist, CDF(r), CDF(Q), zjstarlist=zjstarlist))\n",
    "            if n == l:\n",
    "                #entry = entry - sqrt(Y) * bessel_K(i*r, 2 * pi * abs(n) * Y)\n",
    "                entry = entry - CDF(sqrt(Y)) * kappa(r, 2 * pi * abs(n) * Y)\n",
    "            if l != 1:\n",
    "                row.append(entry.n())\n",
    "            else:\n",
    "                B.append([-entry.n()])\n",
    "                #if n == 1:\n",
    "                #    print(V(n, l, zjlist, r, Q, zjstarlist=zjstarlist))\n",
    "                #    print(sqrt(Y) * kappa(r, 2 * pi * abs(n) * Y))\n",
    "        matrix.append(row)\n",
    "        if withtime:\n",
    "            print(\"row {} computed in {} seconds\".format(n, time.time() - now))\n",
    "    return matrix, B"
   ]
  },
  {
   "cell_type": "code",
   "execution_count": 16,
   "metadata": {},
   "outputs": [
    {
     "name": "stdout",
     "output_type": "stream",
     "text": [
      "lists made in 0.03257441520690918\n",
      "row -8 computed in 0.6628572940826416 seconds\n",
      "row -7 computed in 0.6433212757110596 seconds\n",
      "row -6 computed in 0.6426317691802979 seconds\n",
      "row -5 computed in 0.6682097911834717 seconds\n",
      "row -4 computed in 0.6700131893157959 seconds\n",
      "row -3 computed in 0.6402966976165771 seconds\n",
      "row -2 computed in 0.663346529006958 seconds\n",
      "row -1 computed in 0.6863448619842529 seconds\n",
      "row 1 computed in 0.7095780372619629 seconds\n",
      "row 2 computed in 0.9151451587677002 seconds\n",
      "row 3 computed in 0.798314094543457 seconds\n",
      "row 4 computed in 0.9088175296783447 seconds\n",
      "row 5 computed in 0.8387832641601562 seconds\n",
      "row 6 computed in 0.8383357524871826 seconds\n",
      "row 7 computed in 0.8320372104644775 seconds\n",
      "row 8 computed in 0.8334674835205078 seconds\n",
      "Done in 11.985921859741211\n"
     ]
    }
   ],
   "source": [
    "Q = 8\n",
    "Y = 0.28\n",
    "r = 9.53369526135\n",
    "now = time.time()\n",
    "#testmat, testB = make_matrix(20, 0.5, 3)\n",
    "testmat, testB = make_matrix(Q, Y, r)\n",
    "print(\"Done in {}\".format(time.time() - now))"
   ]
  },
  {
   "cell_type": "markdown",
   "metadata": {},
   "source": [
    "## Contents of tiny cython file\n",
    "\n",
    "```python\n",
    "import sage.libs.mpmath.all as mpmath\n",
    "\n",
    "mpmath_ctx = mpmath.fp\n",
    "\n",
    "\n",
    "def cykappa(r, u):\n",
    "    return mpmath_ctx.besselk(1j*r, u)\n",
    "\n",
    "def cykappa_with_mult(r, u):\n",
    "    pi = mpmath_ctx.pi\n",
    "    cdef double exp_Pih_R=mpmath_ctx.exp(pi * r / 2.)\n",
    "    return mpmath_ctx.besselk(1j*r, u) * exp_Pih_R\n",
    "\n",
    "def cyV(n, l, r, Q, zjlist, zjstarlist):\n",
    "    pi = mpmath_ctx.pi\n",
    "    cdef double exp_Pih_R=mpmath_ctx.exp(pi * r / 2.)\n",
    "    cdef double complex ret = 0\n",
    "    for zj, zjs in zip(zjlist, zjstarlist):\n",
    "        xj = zj.real()\n",
    "        xjs = zjs.real()\n",
    "        yjs = zjs.imag()\n",
    "        ret += mpmath_ctx.sqrt(yjs) * exp_Pih_R * cykappa(r, 2*pi*abs(l)*yjs) \\\n",
    "               * mpmath_ctx.exp(2*pi*1j*(l * xjs - n * xj))\n",
    "    ret = ret / (2*Q)\n",
    "    return ret\n",
    "```"
   ]
  },
  {
   "cell_type": "code",
   "execution_count": 17,
   "metadata": {},
   "outputs": [
    {
     "name": "stderr",
     "output_type": "stream",
     "text": [
      "Compiling ./maass-cython.spyx...\n"
     ]
    }
   ],
   "source": [
    "load(\"maass-cython.spyx\")"
   ]
  },
  {
   "cell_type": "code",
   "execution_count": 18,
   "metadata": {},
   "outputs": [
    {
     "data": {
      "text/plain": [
       "(0.06333777981976761-0.12791312356062806j)"
      ]
     },
     "execution_count": 18,
     "metadata": {},
     "output_type": "execute_result"
    }
   ],
   "source": [
    "cykappa_with_mult(1, 3+i)"
   ]
  },
  {
   "cell_type": "code",
   "execution_count": 19,
   "metadata": {},
   "outputs": [
    {
     "data": {
      "text/plain": [
       "0.0633377798197707 - 0.127913123560625*I"
      ]
     },
     "execution_count": 19,
     "metadata": {},
     "output_type": "execute_result"
    }
   ],
   "source": [
    "kappa(1, 3+i)"
   ]
  },
  {
   "cell_type": "code",
   "execution_count": 20,
   "metadata": {},
   "outputs": [],
   "source": [
    "test_zj_starlist = make_zjstar_list(test_zj_list)"
   ]
  },
  {
   "cell_type": "code",
   "execution_count": 21,
   "metadata": {},
   "outputs": [
    {
     "data": {
      "text/plain": [
       "(-0.0016458022789573614+0j)"
      ]
     },
     "execution_count": 21,
     "metadata": {},
     "output_type": "execute_result"
    }
   ],
   "source": [
    "cyV(3, 1, 9.5**.5, 4, test_zj_list, test_zj_starlist)"
   ]
  },
  {
   "cell_type": "code",
   "execution_count": 22,
   "metadata": {},
   "outputs": [
    {
     "data": {
      "text/plain": [
       "-0.0016458022812606853 + 1.6263032587282567e-19*I"
      ]
     },
     "execution_count": 22,
     "metadata": {},
     "output_type": "execute_result"
    }
   ],
   "source": [
    "V(3, 1, test_zj_list, 9.5**.5, 4)"
   ]
  },
  {
   "cell_type": "code",
   "execution_count": 23,
   "metadata": {},
   "outputs": [
    {
     "name": "stdout",
     "output_type": "stream",
     "text": [
      "CPU times: user 47 ms, sys: 3.99 ms, total: 51 ms\n",
      "Wall time: 49.6 ms\n"
     ]
    },
    {
     "data": {
      "text/plain": [
       "-0.0016458022812606853 + 1.6263032587282567e-19*I"
      ]
     },
     "execution_count": 23,
     "metadata": {},
     "output_type": "execute_result"
    }
   ],
   "source": [
    "%time V(3, 1, test_zj_list, 9.5**.5, 4)"
   ]
  },
  {
   "cell_type": "code",
   "execution_count": 24,
   "metadata": {},
   "outputs": [
    {
     "name": "stdout",
     "output_type": "stream",
     "text": [
      "CPU times: user 3.8 ms, sys: 0 ns, total: 3.8 ms\n",
      "Wall time: 3.81 ms\n"
     ]
    },
    {
     "data": {
      "text/plain": [
       "(-0.0016458022789573614+0j)"
      ]
     },
     "execution_count": 24,
     "metadata": {},
     "output_type": "execute_result"
    }
   ],
   "source": [
    "%time cyV(3, 1, 9.5**.5, 4, test_zj_list, test_zj_starlist)"
   ]
  },
  {
   "cell_type": "code",
   "execution_count": 25,
   "metadata": {},
   "outputs": [],
   "source": [
    "def make_matrix_with_some_cy(size, Y, r, withtime=True):\n",
    "    if withtime:\n",
    "        now = time.time()\n",
    "    Q = size\n",
    "    zjlist = make_zj_list(Y, Q)\n",
    "    zjstarlist = make_zjstar_list(zjlist)\n",
    "    if withtime:\n",
    "        print(\"lists made in {}\".format(time.time() - now))\n",
    "    matrix = []\n",
    "    B = []\n",
    "    for n in range(-Q, Q+1):\n",
    "        if withtime:\n",
    "            now = time.time()\n",
    "        if n == 0:\n",
    "            continue\n",
    "        row = []\n",
    "        for l in range(-Q, Q+1):\n",
    "            if l == 0:\n",
    "                continue\n",
    "            entry = cyV(n, l, CDF(r), CDF(Q), zjlist, zjstarlist=zjstarlist)\n",
    "            if n == l:\n",
    "                #entry = entry - sqrt(Y) * bessel_K(i*r, 2 * pi * abs(n) * Y)\n",
    "                entry = entry - CDF(sqrt(Y)) * cykappa_with_mult(r, 2 * pi * abs(n) * Y)\n",
    "            if l != 1:\n",
    "                row.append(entry)\n",
    "            else:\n",
    "                B.append([-entry])\n",
    "                #if n == 1:\n",
    "                #    print(V(n, l, zjlist, r, Q, zjstarlist=zjstarlist))\n",
    "                #    print(sqrt(Y) * kappa(r, 2 * pi * abs(n) * Y))\n",
    "        matrix.append(row)\n",
    "        if withtime:\n",
    "            print(\"row {} computed in {} seconds\".format(n, time.time() - now))\n",
    "    return matrix, B"
   ]
  },
  {
   "cell_type": "code",
   "execution_count": 26,
   "metadata": {},
   "outputs": [
    {
     "name": "stdout",
     "output_type": "stream",
     "text": [
      "lists made in 0.02890300750732422\n",
      "row -8 computed in 0.06800627708435059 seconds\n",
      "row -7 computed in 0.06681990623474121 seconds\n",
      "row -6 computed in 0.06819319725036621 seconds\n",
      "row -5 computed in 0.06733584403991699 seconds\n",
      "row -4 computed in 0.06668877601623535 seconds\n",
      "row -3 computed in 0.06763362884521484 seconds\n",
      "row -2 computed in 0.06885933876037598 seconds\n",
      "row -1 computed in 0.06583356857299805 seconds\n",
      "row 1 computed in 0.06247305870056152 seconds\n",
      "row 2 computed in 0.06531190872192383 seconds\n",
      "row 3 computed in 0.06538820266723633 seconds\n",
      "row 4 computed in 0.06538653373718262 seconds\n",
      "row 5 computed in 0.06470918655395508 seconds\n",
      "row 6 computed in 0.06978678703308105 seconds\n",
      "row 7 computed in 0.06601834297180176 seconds\n",
      "row 8 computed in 0.06732916831970215 seconds\n",
      "Done in 1.0968985557556152\n"
     ]
    }
   ],
   "source": [
    "Q = 8\n",
    "Y = 0.28\n",
    "r = 9.53369526135\n",
    "#testmat, testB = make_matrix(20, 0.5, 3)\n",
    "now = time.time()\n",
    "testmat, testB = make_matrix_with_some_cy(Q, Y, r)\n",
    "print(\"Done in {}\".format(time.time() - now))"
   ]
  },
  {
   "cell_type": "code",
   "execution_count": 27,
   "metadata": {},
   "outputs": [],
   "source": [
    "def solve_for_coeffs(Q, Y, r):\n",
    "    mat, B = make_matrix_with_some_cy(Q, Y, r, withtime=False)\n",
    "    preinversiontime = time.time()\n",
    "    mm = matrix(CC, mat[1:])\n",
    "    Bm = matrix(CC, B[1:])\n",
    "    res = mm.inverse() * Bm\n",
    "    print(\"Inversion done in {}\".format(time.time() - preinversiontime))\n",
    "    indices = [i for i in range(-Q, Q) if i != 0 and i != 1]\n",
    "    resdict = dict()\n",
    "    for index, re in zip(indices, res):\n",
    "        resdict[index] = re[0].real()\n",
    "    return resdict"
   ]
  },
  {
   "cell_type": "code",
   "execution_count": 28,
   "metadata": {},
   "outputs": [
    {
     "name": "stdout",
     "output_type": "stream",
     "text": [
      "Inversion done in 0.013143301010131836\n",
      "CPU times: user 1.07 s, sys: 3.91 ms, total: 1.07 s\n",
      "Wall time: 1.07 s\n"
     ]
    }
   ],
   "source": [
    "%time coeffdict = solve_for_coeffs(Q, Y, r)"
   ]
  },
  {
   "cell_type": "code",
   "execution_count": 29,
   "metadata": {},
   "outputs": [
    {
     "data": {
      "text/plain": [
       "{-8: 1.87322686737660e9,\n",
       " -7: 0.793986924762749,\n",
       " -6: -0.488696770726782,\n",
       " -5: 0.290607870282857,\n",
       " -4: -0.141331593018057,\n",
       " -3: 0.456186618172060,\n",
       " -2: 1.06833016591228,\n",
       " -1: -0.999999234922817,\n",
       " 2: -1.06833082621984,\n",
       " 3: -0.456187120225734,\n",
       " 4: 0.141331341278230,\n",
       " 5: -0.290607775330800,\n",
       " 6: 0.488696650679484,\n",
       " 7: -0.793986654374832}"
      ]
     },
     "execution_count": 29,
     "metadata": {},
     "output_type": "execute_result"
    }
   ],
   "source": [
    "coeffdict"
   ]
  },
  {
   "cell_type": "code",
   "execution_count": 30,
   "metadata": {},
   "outputs": [],
   "source": [
    "def error_func(r, Y1=0.28, Y2=0.3, Q=8, power=2):\n",
    "    coeffdict1 = solve_for_coeffs(Q, Y1, r)\n",
    "    coeffdict2 = solve_for_coeffs(Q, Y2, r)\n",
    "    return ((coeffdict1[2] - coeffdict2[2])**power\n",
    "            + (coeffdict1[3] - coeffdict2[3]) **power\n",
    "            + (coeffdict1[5] - coeffdict2[5])**power)"
   ]
  },
  {
   "cell_type": "code",
   "execution_count": 31,
   "metadata": {},
   "outputs": [
    {
     "name": "stdout",
     "output_type": "stream",
     "text": [
      "Inversion done in 0.005559206008911133\n",
      "Inversion done in 0.005434274673461914\n",
      "CPU times: user 2.21 s, sys: 38 µs, total: 2.21 s\n",
      "Wall time: 2.2 s\n"
     ]
    },
    {
     "data": {
      "text/plain": [
       "1.75925992991161e-9"
      ]
     },
     "execution_count": 31,
     "metadata": {},
     "output_type": "execute_result"
    }
   ],
   "source": [
    "%time error_func(r)"
   ]
  },
  {
   "cell_type": "code",
   "execution_count": 32,
   "metadata": {},
   "outputs": [],
   "source": [
    "def secant_method_single_iteration(r1, r2, Q=8, power=2):\n",
    "    e1 = error_func(r1, Q=Q, power=power)\n",
    "    e2 = error_func(r2, Q=Q, power=power)\n",
    "    return r1 - e1*(r1 - r2)/(e1 - e2)"
   ]
  },
  {
   "cell_type": "code",
   "execution_count": 33,
   "metadata": {},
   "outputs": [
    {
     "name": "stdout",
     "output_type": "stream",
     "text": [
      "Inversion done in 0.00494074821472168\n",
      "Inversion done in 0.0050106048583984375\n",
      "Inversion done in 0.004925251007080078\n",
      "Inversion done in 0.004859447479248047\n",
      "computed r: 9.49727787715483      time: 4.3293445110321045\n",
      "Inversion done in 0.004935264587402344\n",
      "Inversion done in 0.0050411224365234375\n",
      "Inversion done in 0.004921913146972656\n",
      "Inversion done in 0.005501747131347656\n",
      "computed r: 9.49419505507187      time: 4.285295724868774\n",
      "Inversion done in 0.005172014236450195\n",
      "Inversion done in 0.0049092769622802734\n",
      "Inversion done in 0.004960298538208008\n",
      "Inversion done in 0.004971981048583984\n",
      "computed r: 9.54086107605566      time: 4.35932469367981\n",
      "Inversion done in 0.004830598831176758\n",
      "Inversion done in 0.0049779415130615234\n",
      "Inversion done in 0.004949808120727539\n",
      "Inversion done in 0.005103349685668945\n",
      "computed r: 9.58660052314911      time: 4.305162191390991\n",
      "Inversion done in 0.005700588226318359\n",
      "Inversion done in 0.004929304122924805\n",
      "Inversion done in 0.0049135684967041016\n",
      "Inversion done in 0.004974842071533203\n",
      "computed r: 9.53628031109461      time: 4.382409334182739\n",
      "Inversion done in 0.004959583282470703\n",
      "Inversion done in 0.004929542541503906\n",
      "Inversion done in 0.005284309387207031\n",
      "Inversion done in 0.005417346954345703\n",
      "computed r: 9.53592508008126      time: 4.471175193786621\n",
      "Inversion done in 0.005010366439819336\n",
      "Inversion done in 0.005709409713745117\n",
      "Inversion done in 0.004964590072631836\n",
      "Inversion done in 0.004942417144775391\n",
      "computed r: 9.53501930080858      time: 4.288573980331421\n",
      "Inversion done in 0.005038738250732422\n",
      "Inversion done in 0.0049512386322021484\n",
      "Inversion done in 0.005700111389160156\n",
      "Inversion done in 0.005347728729248047\n",
      "computed r: 9.53458670696755      time: 4.413703918457031\n",
      "Inversion done in 0.004968166351318359\n",
      "Inversion done in 0.004924774169921875\n",
      "Inversion done in 0.005754947662353516\n",
      "Inversion done in 0.0049936771392822266\n",
      "computed r: 9.53425301595749      time: 4.275274991989136\n",
      "Inversion done in 0.0049321651458740234\n",
      "Inversion done in 0.005018949508666992\n",
      "Inversion done in 0.005057334899902344\n",
      "Inversion done in 0.00490260124206543\n",
      "computed r: 9.53404871373198      time: 4.253443241119385\n",
      "Done in 43.3643000125885\n"
     ]
    }
   ],
   "source": [
    "r1 = 9.5\n",
    "r2 = 9.55\n",
    "rlist = [r1, r2]\n",
    "NOW = time.time()\n",
    "now = time.time()\n",
    "for idx in range(10):\n",
    "    rnew = secant_method_single_iteration(rlist[-2], rlist[-1], power=2)\n",
    "    rlist.append(rnew)\n",
    "    print(\"computed r: {}      time: {}\".format(rnew, time.time() - now))\n",
    "    now = time.time()\n",
    "print(\"Done in {}\".format(time.time() - NOW))"
   ]
  },
  {
   "cell_type": "code",
   "execution_count": 34,
   "metadata": {
    "scrolled": true
   },
   "outputs": [
    {
     "name": "stdout",
     "output_type": "stream",
     "text": [
      "Inversion done in 0.0048999786376953125\n",
      "Inversion done in 0.005072116851806641\n",
      "Inversion done in 0.0051136016845703125\n",
      "Inversion done in 0.0050792694091796875\n",
      "computed r: 9.50928635143440      time: 4.302231550216675\n",
      "Inversion done in 0.0050313472747802734\n",
      "Inversion done in 0.005052089691162109\n",
      "Inversion done in 0.004992485046386719\n",
      "Inversion done in 0.0050067901611328125\n",
      "computed r: 9.51594812823334      time: 4.314939022064209\n",
      "Inversion done in 0.0050127506256103516\n",
      "Inversion done in 0.004965782165527344\n",
      "Inversion done in 0.005096435546875\n",
      "Inversion done in 0.005613088607788086\n",
      "computed r: 9.55109466860222      time: 4.276482105255127\n",
      "Inversion done in 0.005095720291137695\n",
      "Inversion done in 0.005231142044067383\n",
      "Inversion done in 0.005057573318481445\n",
      "Inversion done in 0.004981517791748047\n",
      "computed r: 9.51984614699136      time: 4.285640478134155\n",
      "Inversion done in 0.005049228668212891\n",
      "Inversion done in 0.005057573318481445\n",
      "Inversion done in 0.004965066909790039\n",
      "Inversion done in 0.005066394805908203\n",
      "computed r: 9.52287431424736      time: 4.272690057754517\n",
      "Inversion done in 0.00503849983215332\n",
      "Inversion done in 0.005131244659423828\n",
      "Inversion done in 0.005071401596069336\n",
      "Inversion done in 0.0050814151763916016\n",
      "computed r: 9.53997579418115      time: 4.333341836929321\n",
      "Inversion done in 0.005172014236450195\n",
      "Inversion done in 0.005845308303833008\n",
      "Inversion done in 0.005052804946899414\n",
      "Inversion done in 0.0050127506256103516\n",
      "computed r: 9.53071732375602      time: 4.56720232963562\n",
      "Inversion done in 0.0050449371337890625\n",
      "Inversion done in 0.005228519439697266\n",
      "Inversion done in 0.005333900451660156\n",
      "Inversion done in 0.005156040191650391\n",
      "computed r: 9.53286851162266      time: 4.362575531005859\n",
      "Inversion done in 0.005168914794921875\n",
      "Inversion done in 0.005190849304199219\n",
      "Inversion done in 0.005333662033081055\n",
      "Inversion done in 0.005323886871337891\n",
      "computed r: 9.53380225470783      time: 4.382161855697632\n",
      "Inversion done in 0.00503087043762207\n",
      "Inversion done in 0.0050852298736572266\n",
      "Inversion done in 0.005041360855102539\n",
      "Inversion done in 0.005368471145629883\n",
      "computed r: 9.53369097168154      time: 4.332651615142822\n",
      "Done in 43.430524826049805\n"
     ]
    }
   ],
   "source": [
    "r1 = 9.5\n",
    "r2 = 9.55\n",
    "rlist = [r1, r2]\n",
    "NOW = time.time()\n",
    "now = time.time()\n",
    "for idx in range(10):\n",
    "    rnew = secant_method_single_iteration(rlist[-2], rlist[-1], power=1)\n",
    "    rlist.append(rnew)\n",
    "    print(\"computed r: {}      time: {}\".format(rnew, time.time() - now))\n",
    "    now = time.time()\n",
    "print(\"Done in {}\".format(time.time() - NOW))"
   ]
  },
  {
   "cell_type": "code",
   "execution_count": 35,
   "metadata": {},
   "outputs": [
    {
     "name": "stdout",
     "output_type": "stream",
     "text": [
      "Inversion done in 0.0035152435302734375\n",
      "Inversion done in 0.0027489662170410156\n",
      "Inversion done in 0.002672910690307617\n",
      "Inversion done in 0.0027647018432617188\n",
      "computed r: 9.59387047826304      time: 2.0381362438201904\n",
      "Inversion done in 0.002574443817138672\n",
      "Inversion done in 0.0026612281799316406\n",
      "Inversion done in 0.002622365951538086\n",
      "Inversion done in 0.002717256546020508\n",
      "computed r: 9.54812422154999      time: 2.027291774749756\n",
      "Inversion done in 0.0026547908782958984\n",
      "Inversion done in 0.002655506134033203\n",
      "Inversion done in 0.0033588409423828125\n",
      "Inversion done in 0.06827116012573242\n",
      "computed r: 9.54664217265963      time: 2.1221470832824707\n",
      "Inversion done in 0.002504110336303711\n",
      "Inversion done in 0.002727031707763672\n",
      "Inversion done in 0.0027239322662353516\n",
      "Inversion done in 0.002712249755859375\n",
      "computed r: 9.54102948022800      time: 2.025088310241699\n",
      "Inversion done in 0.002660512924194336\n",
      "Inversion done in 0.002702474594116211\n",
      "Inversion done in 0.0027251243591308594\n",
      "Inversion done in 0.0027129650115966797\n",
      "computed r: 9.53857710063801      time: 2.035762071609497\n",
      "Inversion done in 0.0031969547271728516\n",
      "Inversion done in 0.002678394317626953\n",
      "Inversion done in 0.002631664276123047\n",
      "Inversion done in 0.0027074813842773438\n",
      "computed r: 9.53663247702626      time: 2.024308919906616\n",
      "Inversion done in 0.003615140914916992\n",
      "Inversion done in 0.0027320384979248047\n",
      "Inversion done in 0.0027375221252441406\n",
      "Inversion done in 0.0026547908782958984\n",
      "computed r: 9.53543668711281      time: 2.042323589324951\n",
      "Inversion done in 0.002748250961303711\n",
      "Inversion done in 0.002711772918701172\n",
      "Inversion done in 0.0026624202728271484\n",
      "Inversion done in 0.00267791748046875\n",
      "computed r: 9.53461087207954      time: 2.0286128520965576\n",
      "Inversion done in 0.0032203197479248047\n",
      "Inversion done in 0.0027167797088623047\n",
      "Inversion done in 0.002740621566772461\n",
      "Inversion done in 0.0028340816497802734\n",
      "computed r: 9.53400807291181      time: 2.034289836883545\n",
      "Inversion done in 0.002749204635620117\n",
      "Inversion done in 0.002713918685913086\n",
      "Inversion done in 0.002741575241088867\n",
      "Inversion done in 0.002736806869506836\n",
      "computed r: 9.53340983480165      time: 2.0418593883514404\n",
      "Done in 20.420408964157104\n"
     ]
    }
   ],
   "source": [
    "r1 = 9.5\n",
    "r2 = 9.55\n",
    "rlist = [r1, r2]\n",
    "NOW = time.time()\n",
    "now = time.time()\n",
    "for idx in range(10):\n",
    "    rnew = secant_method_single_iteration(rlist[-2], rlist[-1], Q=6)\n",
    "    rlist.append(rnew)\n",
    "    print(\"computed r: {}      time: {}\".format(rnew, time.time() - now))\n",
    "    now = time.time()\n",
    "print(\"Done in {}\".format(time.time() - NOW))"
   ]
  },
  {
   "cell_type": "code",
   "execution_count": 36,
   "metadata": {},
   "outputs": [
    {
     "name": "stdout",
     "output_type": "stream",
     "text": [
      "Inversion done in 0.00270843505859375\n",
      "Inversion done in 0.0026862621307373047\n"
     ]
    },
    {
     "data": {
      "text/plain": [
       "0.00120185116773810"
      ]
     },
     "execution_count": 36,
     "metadata": {},
     "output_type": "execute_result"
    }
   ],
   "source": [
    "error_func(r, Q=6)"
   ]
  },
  {
   "cell_type": "markdown",
   "metadata": {},
   "source": [
    "I don't quite understand the required bounds on $Q$ at the moment. But surprisingly small values of $Q$ work surprisingly well."
   ]
  },
  {
   "cell_type": "code",
   "execution_count": 37,
   "metadata": {},
   "outputs": [
    {
     "name": "stdout",
     "output_type": "stream",
     "text": [
      "Inversion done in 0.0051457881927490234\n",
      "Inversion done in 0.006009578704833984\n",
      "Inversion done in 0.005298614501953125\n",
      "Inversion done in 0.005230903625488281\n",
      "computed r: 11.9729254449747      time: 4.7046849727630615\n",
      "Inversion done in 0.005159854888916016\n",
      "Inversion done in 0.005223751068115234\n",
      "Inversion done in 0.005034923553466797\n",
      "Inversion done in 0.005239009857177734\n",
      "computed r: 11.9416688434772      time: 4.723443269729614\n",
      "Inversion done in 0.005163669586181641\n",
      "Inversion done in 0.005152702331542969\n",
      "Inversion done in 0.005980491638183594\n",
      "Inversion done in 0.005321502685546875\n",
      "computed r: 12.1450949287850      time: 4.645413160324097\n",
      "Inversion done in 0.0052263736724853516\n",
      "Inversion done in 0.005236387252807617\n",
      "Inversion done in 0.005252361297607422\n",
      "Inversion done in 0.005209684371948242\n",
      "computed r: 12.2230004572527      time: 4.645998954772949\n",
      "Inversion done in 0.005182743072509766\n",
      "Inversion done in 0.005239963531494141\n",
      "Inversion done in 0.0051343441009521484\n",
      "Inversion done in 0.0060613155364990234\n",
      "computed r: 12.1422415428310      time: 4.688302516937256\n",
      "Inversion done in 0.005551815032958984\n",
      "Inversion done in 0.005232810974121094\n",
      "Inversion done in 0.0053021907806396484\n",
      "Inversion done in 0.005218982696533203\n",
      "computed r: 12.1388294940932      time: 4.68393874168396\n",
      "Inversion done in 0.005264759063720703\n",
      "Inversion done in 0.00527501106262207\n",
      "Inversion done in 0.0051610469818115234\n",
      "Inversion done in 0.005114555358886719\n",
      "computed r: 12.1645976731964      time: 4.645491600036621\n",
      "Inversion done in 0.005982875823974609\n",
      "Inversion done in 0.005358457565307617\n",
      "Inversion done in 0.005311250686645508\n",
      "Inversion done in 0.005540609359741211\n",
      "computed r: 12.1675402709553      time: 4.639883756637573\n",
      "Inversion done in 0.005340576171875\n",
      "Inversion done in 0.005446910858154297\n",
      "Inversion done in 0.005248546600341797\n",
      "Inversion done in 0.005255699157714844\n",
      "computed r: 12.1699548228749      time: 4.668015003204346\n",
      "Inversion done in 0.005691051483154297\n",
      "Inversion done in 0.006243705749511719\n",
      "Inversion done in 0.0056192874908447266\n",
      "Inversion done in 0.005281925201416016\n",
      "computed r: 12.1711457765677      time: 4.791218042373657\n",
      "Inversion done in 0.00580286979675293\n",
      "Inversion done in 0.005527019500732422\n",
      "Inversion done in 0.005344867706298828\n",
      "Inversion done in 0.005972385406494141\n",
      "computed r: 12.1718966760731      time: 4.927338123321533\n",
      "Inversion done in 0.005307912826538086\n",
      "Inversion done in 0.005188941955566406\n",
      "Inversion done in 0.006350040435791016\n",
      "Inversion done in 0.00535273551940918\n",
      "computed r: 12.1723466561403      time: 4.746243238449097\n",
      "Inversion done in 0.005350828170776367\n",
      "Inversion done in 0.005584239959716797\n",
      "Inversion done in 0.005240917205810547\n",
      "Inversion done in 0.005186319351196289\n",
      "computed r: 12.1726358055689      time: 4.719146013259888\n",
      "Inversion done in 0.005440950393676758\n",
      "Inversion done in 0.005272626876831055\n",
      "Inversion done in 0.005375385284423828\n",
      "Inversion done in 0.006272554397583008\n",
      "computed r: 12.1728356805994      time: 4.733583688735962\n",
      "Inversion done in 0.005602836608886719\n",
      "Inversion done in 0.005316734313964844\n",
      "Inversion done in 0.005373954772949219\n",
      "Inversion done in 0.00537419319152832\n",
      "computed r: 12.1730106435920      time: 4.722823858261108\n",
      "Inversion done in 0.0051958560943603516\n",
      "Inversion done in 0.00531768798828125\n",
      "Inversion done in 0.005481243133544922\n",
      "Inversion done in 0.0052645206451416016\n",
      "computed r: 12.1733847007345      time: 4.7153425216674805\n",
      "Inversion done in 0.00635528564453125\n",
      "Inversion done in 0.0055735111236572266\n",
      "Inversion done in 0.005489349365234375\n",
      "Inversion done in 0.0054934024810791016\n",
      "computed r: 12.1728393846562      time: 4.704727649688721\n",
      "Inversion done in 0.005383968353271484\n",
      "Inversion done in 0.00525975227355957\n",
      "Inversion done in 0.005303621292114258\n",
      "Inversion done in 0.005472660064697266\n",
      "computed r: 12.1723844931719      time: 4.701606035232544\n",
      "Inversion done in 0.0051343441009521484\n",
      "Inversion done in 0.006092071533203125\n",
      "Inversion done in 0.005661964416503906\n",
      "Inversion done in 0.005426168441772461\n",
      "computed r: 12.1729589879163      time: 4.701042890548706\n",
      "Inversion done in 0.005542755126953125\n",
      "Inversion done in 0.005389213562011719\n",
      "Inversion done in 0.005218505859375\n",
      "Inversion done in 0.005339384078979492\n",
      "computed r: 12.1730600058042      time: 4.716140270233154\n",
      "Done in 94.22550320625305\n"
     ]
    }
   ],
   "source": [
    "r1 = 12.0\n",
    "r2 = 12.5\n",
    "rlist = [r1, r2]\n",
    "NOW = time.time()\n",
    "now = time.time()\n",
    "for idx in range(20):\n",
    "    rnew = secant_method_single_iteration(rlist[-2], rlist[-1], Q=8)\n",
    "    rlist.append(rnew)\n",
    "    print(\"computed r: {}      time: {}\".format(rnew, time.time() - now))\n",
    "    now = time.time()\n",
    "print(\"Done in {}\".format(time.time() - NOW))"
   ]
  },
  {
   "cell_type": "code",
   "execution_count": 38,
   "metadata": {},
   "outputs": [
    {
     "name": "stdout",
     "output_type": "stream",
     "text": [
      "Inversion done in 0.002987384796142578\n",
      "Inversion done in 0.003139019012451172\n",
      "Inversion done in 0.002670764923095703\n",
      "Inversion done in 0.003651857376098633\n",
      "computed r: 12.2686437411483      time: 2.285745143890381\n",
      "Inversion done in 0.002882719039916992\n",
      "Inversion done in 0.003132343292236328\n",
      "Inversion done in 0.0028274059295654297\n",
      "Inversion done in 0.0029087066650390625\n",
      "computed r: 12.1999812501054      time: 2.3465421199798584\n",
      "Inversion done in 0.002807140350341797\n",
      "Inversion done in 0.0027446746826171875\n",
      "Inversion done in 0.0028433799743652344\n",
      "Inversion done in 0.002790212631225586\n",
      "computed r: 12.1999625422140      time: 2.2490718364715576\n",
      "Inversion done in 0.0027322769165039062\n",
      "Inversion done in 0.0028107166290283203\n",
      "Inversion done in 0.002768278121948242\n",
      "Inversion done in 0.003839254379272461\n",
      "computed r: 12.1925157918053      time: 2.279813051223755\n",
      "Inversion done in 0.0028047561645507812\n",
      "Inversion done in 0.0028917789459228516\n",
      "Inversion done in 0.0028030872344970703\n",
      "Inversion done in 0.0028772354125976562\n",
      "computed r: 12.1891964621255      time: 2.2503888607025146\n",
      "Inversion done in 0.002727031707763672\n",
      "Inversion done in 0.0028295516967773438\n",
      "Inversion done in 0.0027587413787841797\n",
      "Inversion done in 0.0028390884399414062\n",
      "computed r: 12.1855309679207      time: 2.2575926780700684\n",
      "Inversion done in 0.0028145313262939453\n",
      "Inversion done in 0.0027904510498046875\n",
      "Inversion done in 0.0024051666259765625\n",
      "Inversion done in 0.0033605098724365234\n",
      "computed r: 12.1811475765694      time: 2.2563726902008057\n",
      "Inversion done in 0.003011465072631836\n",
      "Inversion done in 0.002943754196166992\n",
      "Inversion done in 0.0028638839721679688\n",
      "Inversion done in 0.0028562545776367188\n",
      "computed r: 12.2202435647939      time: 2.2684707641601562\n",
      "Inversion done in 0.002828359603881836\n",
      "Inversion done in 0.0024399757385253906\n",
      "Inversion done in 0.0028226375579833984\n",
      "Inversion done in 0.0031108856201171875\n",
      "computed r: 12.1806731539924      time: 2.2625443935394287\n",
      "Inversion done in 0.0027933120727539062\n",
      "Inversion done in 0.0029289722442626953\n",
      "Inversion done in 0.002796649932861328\n",
      "Inversion done in 0.0033235549926757812\n",
      "computed r: 12.1801597939819      time: 2.2661378383636475\n",
      "Done in 22.723445892333984\n"
     ]
    }
   ],
   "source": [
    "r1 = 12.15\n",
    "r2 = 12.2\n",
    "rlist = [r1, r2]\n",
    "NOW = time.time()\n",
    "now = time.time()\n",
    "for idx in range(10):\n",
    "    rnew = secant_method_single_iteration(rlist[-2], rlist[-1], Q=6)\n",
    "    rlist.append(rnew)\n",
    "    print(\"computed r: {}      time: {}\".format(rnew, time.time() - now))\n",
    "    now = time.time()\n",
    "print(\"Done in {}\".format(time.time() - NOW))"
   ]
  },
  {
   "cell_type": "markdown",
   "metadata": {},
   "source": [
    "I am rapidly running into precision errors. Many of these are caused, I think, by the larger-than-necessary K-bessel functions. I'm using $K_{ir}(u)$ instead of Andy's $\\kappa_{ir}(u)$, simply because the libraries I have can compute these quickly. I should try to find a better K-bessel computation."
   ]
  },
  {
   "cell_type": "code",
   "execution_count": 39,
   "metadata": {},
   "outputs": [
    {
     "name": "stdout",
     "output_type": "stream",
     "text": [
      "Inversion done in 0.010133981704711914\n",
      "Inversion done in 0.009264945983886719\n",
      "Inversion done in 0.009323835372924805\n",
      "Inversion done in 0.011097908020019531\n",
      "computed r: 12.1495446393491      time: 8.355088472366333\n",
      "Inversion done in 0.00950479507446289\n",
      "Inversion done in 0.010741949081420898\n",
      "Inversion done in 0.009484529495239258\n",
      "Inversion done in 0.00935220718383789\n",
      "computed r: 12.1490742084784      time: 8.347170114517212\n",
      "Inversion done in 0.009395122528076172\n",
      "Inversion done in 0.009287595748901367\n",
      "Inversion done in 0.009331941604614258\n",
      "Inversion done in 0.011080503463745117\n",
      "computed r: 12.1694270709510      time: 8.331717491149902\n",
      "Inversion done in 0.009650468826293945\n",
      "Inversion done in 0.009494304656982422\n",
      "Inversion done in 0.009322166442871094\n",
      "Inversion done in 0.009551525115966797\n",
      "computed r: 12.1705659328399      time: 8.360275268554688\n",
      "Inversion done in 0.010320663452148438\n",
      "Inversion done in 0.011347293853759766\n",
      "Inversion done in 0.010271310806274414\n",
      "Inversion done in 0.009859323501586914\n",
      "computed r: 12.1716801364197      time: 9.003631353378296\n",
      "Inversion done in 0.009418725967407227\n",
      "Inversion done in 0.010394573211669922\n",
      "Inversion done in 0.011351585388183594\n",
      "Inversion done in 0.011363983154296875\n",
      "computed r: 12.1721914837349      time: 8.542135238647461\n",
      "Inversion done in 0.009600400924682617\n",
      "Inversion done in 0.009408712387084961\n",
      "Inversion done in 0.009455204010009766\n",
      "Inversion done in 0.00929713249206543\n",
      "computed r: 12.1725174310769      time: 8.340491533279419\n",
      "Inversion done in 0.009714603424072266\n",
      "Inversion done in 0.011074542999267578\n",
      "Inversion done in 0.009612560272216797\n",
      "Inversion done in 0.00939488410949707\n",
      "computed r: 12.1727071115659      time: 8.405869007110596\n",
      "Inversion done in 0.00904393196105957\n",
      "Inversion done in 0.009352445602416992\n",
      "Inversion done in 0.009708166122436523\n",
      "Inversion done in 0.010762453079223633\n",
      "computed r: 12.1728235276695      time: 8.371140718460083\n",
      "Inversion done in 0.00959324836730957\n",
      "Inversion done in 0.009370803833007812\n",
      "Inversion done in 0.009686470031738281\n",
      "Inversion done in 0.009414196014404297\n",
      "computed r: 12.1728944076246      time: 8.338035583496094\n",
      "Done in 84.39628505706787\n"
     ]
    }
   ],
   "source": [
    "r1 = 12.15\n",
    "r2 = 12.2\n",
    "rlist = [r1, r2]\n",
    "NOW = time.time()\n",
    "now = time.time()\n",
    "for idx in range(10):\n",
    "    rnew = secant_method_single_iteration(rlist[-2], rlist[-1], Q=10)\n",
    "    rlist.append(rnew)\n",
    "    print(\"computed r: {}      time: {}\".format(rnew, time.time() - now))\n",
    "    now = time.time()\n",
    "print(\"Done in {}\".format(time.time() - NOW))"
   ]
  },
  {
   "cell_type": "markdown",
   "metadata": {},
   "source": [
    "There are apparently precision problems; see the following computation. $Q = 20$ is much higher, but the actual convergence is not any faster."
   ]
  },
  {
   "cell_type": "code",
   "execution_count": 40,
   "metadata": {},
   "outputs": [
    {
     "name": "stdout",
     "output_type": "stream",
     "text": [
      "Inversion done in 0.06637048721313477\n",
      "Inversion done in 0.12478208541870117\n",
      "Inversion done in 0.06429123878479004\n",
      "Inversion done in 0.06825780868530273\n",
      "computed r: 12.1013321704435      time: 55.27284812927246\n",
      "Inversion done in 0.08541512489318848\n",
      "Inversion done in 0.06437945365905762\n",
      "Inversion done in 0.07300662994384766\n",
      "Inversion done in 0.06478047370910645\n",
      "computed r: 12.2206422540283      time: 54.621328830718994\n",
      "Inversion done in 0.06634902954101562\n",
      "Inversion done in 0.06354093551635742\n",
      "Inversion done in 0.07012414932250977\n",
      "Inversion done in 0.06394267082214355\n",
      "computed r: 10.8987101117853      time: 54.14669919013977\n",
      "Inversion done in 0.06333732604980469\n",
      "Inversion done in 0.06509089469909668\n",
      "Inversion done in 0.06349635124206543\n",
      "Inversion done in 0.06322932243347168\n",
      "computed r: 12.2228958502830      time: 53.6555712223053\n",
      "Inversion done in 0.06446576118469238\n",
      "Inversion done in 0.061765432357788086\n",
      "Inversion done in 0.06392073631286621\n",
      "Inversion done in 0.06449246406555176\n",
      "computed r: 12.2257154533566      time: 52.6533625125885\n",
      "Inversion done in 0.07378292083740234\n",
      "Inversion done in 0.07383275032043457\n",
      "Inversion done in 0.0640571117401123\n",
      "Inversion done in 0.06220388412475586\n",
      "computed r: 12.2147250575029      time: 55.73283505439758\n",
      "Inversion done in 0.06309723854064941\n",
      "Inversion done in 0.06451106071472168\n",
      "Inversion done in 0.06330251693725586\n",
      "Inversion done in 0.0639188289642334\n",
      "computed r: 12.2089048844324      time: 53.72666525840759\n",
      "Inversion done in 0.06522083282470703\n",
      "Inversion done in 0.06335163116455078\n",
      "Inversion done in 0.06337904930114746\n",
      "Inversion done in 0.13906121253967285\n",
      "computed r: 12.2000916828450      time: 53.33695840835571\n",
      "Inversion done in 0.06577229499816895\n",
      "Inversion done in 0.0636909008026123\n",
      "Inversion done in 0.06597542762756348\n",
      "Inversion done in 0.06330990791320801\n",
      "computed r: 12.1927803450194      time: 53.491307973861694\n",
      "Inversion done in 0.06303191184997559\n",
      "Inversion done in 0.06525826454162598\n",
      "Inversion done in 0.06746387481689453\n",
      "Inversion done in 0.0639495849609375\n",
      "computed r: 12.1863892009106      time: 54.04881477355957\n",
      "Done in 540.6872916221619\n"
     ]
    }
   ],
   "source": [
    "r1 = 12.15\n",
    "r2 = 12.2\n",
    "rlist = [r1, r2]\n",
    "NOW = time.time()\n",
    "now = time.time()\n",
    "for idx in range(10):\n",
    "    rnew = secant_method_single_iteration(rlist[-2], rlist[-1], Q=20)\n",
    "    rlist.append(rnew)\n",
    "    print(\"computed r: {}      time: {}\".format(rnew, time.time() - now))\n",
    "    now = time.time()\n",
    "print(\"Done in {}\".format(time.time() - NOW))"
   ]
  },
  {
   "cell_type": "markdown",
   "metadata": {},
   "source": [
    "Ah, or maybe everything is improved if we use the power 1 in the error function, instead of the power 2. I had thought finding a minimum would be superior to finding a zero, but not with the secant method setup I suppose."
   ]
  },
  {
   "cell_type": "code",
   "execution_count": 41,
   "metadata": {},
   "outputs": [
    {
     "name": "stdout",
     "output_type": "stream",
     "text": [
      "Inversion done in 0.06879520416259766\n",
      "Inversion done in 0.06493043899536133\n",
      "Inversion done in 0.06588220596313477\n",
      "Inversion done in 0.05297350883483887\n",
      "computed r: 12.1741257896385      time: 53.42044758796692\n",
      "Inversion done in 0.05907082557678223\n",
      "Inversion done in 0.053086280822753906\n",
      "Inversion done in 0.0600428581237793\n",
      "Inversion done in 0.05610370635986328\n",
      "computed r: 12.1729719029430      time: 46.20607328414917\n",
      "Inversion done in 0.051614999771118164\n",
      "Inversion done in 0.05511617660522461\n",
      "Inversion done in 0.0531153678894043\n",
      "Inversion done in 0.05326652526855469\n",
      "computed r: 12.1730084069161      time: 45.5474808216095\n",
      "Inversion done in 0.05291485786437988\n",
      "Inversion done in 0.13964033126831055\n",
      "Inversion done in 0.06515169143676758\n",
      "Inversion done in 0.052924394607543945\n",
      "computed r: 12.1730083260559      time: 49.9977605342865\n",
      "Inversion done in 0.05802154541015625\n",
      "Inversion done in 0.0569610595703125\n",
      "Inversion done in 0.05191159248352051\n",
      "Inversion done in 0.05376386642456055\n",
      "computed r: 12.1730083253282      time: 45.00924468040466\n",
      "Inversion done in 0.05112934112548828\n",
      "Inversion done in 0.05228877067565918\n",
      "Inversion done in 0.052596330642700195\n",
      "Inversion done in 0.05227375030517578\n",
      "computed r: 12.1730083266425      time: 43.27003335952759\n",
      "Inversion done in 0.05265974998474121\n",
      "Inversion done in 0.05264854431152344\n",
      "Inversion done in 0.05216860771179199\n",
      "Inversion done in 0.05195784568786621\n",
      "computed r: 12.1730083344389      time: 43.45124006271362\n",
      "Inversion done in 0.05267500877380371\n",
      "Inversion done in 0.05519747734069824\n",
      "Inversion done in 0.06375908851623535\n",
      "Inversion done in 0.06560921669006348\n",
      "computed r: 12.1730083253559      time: 47.65308451652527\n",
      "Inversion done in 0.06641221046447754\n",
      "Inversion done in 0.06255221366882324\n",
      "Inversion done in 0.06516480445861816\n",
      "Inversion done in 0.051963090896606445\n",
      "computed r: 12.1730083261962      time: 52.28137421607971\n",
      "Inversion done in 0.0517427921295166\n",
      "Inversion done in 0.053019046783447266\n",
      "Inversion done in 0.05168962478637695\n",
      "Inversion done in 0.05318570137023926\n",
      "computed r: 12.1730083258166      time: 44.21312141418457\n",
      "Done in 471.0506193637848\n"
     ]
    }
   ],
   "source": [
    "r1 = 12.15\n",
    "r2 = 12.2\n",
    "rlist = [r1, r2]\n",
    "NOW = time.time()\n",
    "now = time.time()\n",
    "for idx in range(10):\n",
    "    rnew = secant_method_single_iteration(rlist[-2], rlist[-1], Q=20, power=1)\n",
    "    rlist.append(rnew)\n",
    "    print(\"computed r: {}      time: {}\".format(rnew, time.time() - now))\n",
    "    now = time.time()\n",
    "print(\"Done in {}\".format(time.time() - NOW))"
   ]
  },
  {
   "cell_type": "code",
   "execution_count": null,
   "metadata": {},
   "outputs": [],
   "source": []
  },
  {
   "cell_type": "code",
   "execution_count": null,
   "metadata": {},
   "outputs": [],
   "source": []
  },
  {
   "cell_type": "code",
   "execution_count": null,
   "metadata": {},
   "outputs": [],
   "source": []
  },
  {
   "cell_type": "code",
   "execution_count": null,
   "metadata": {},
   "outputs": [],
   "source": []
  },
  {
   "cell_type": "code",
   "execution_count": 42,
   "metadata": {},
   "outputs": [],
   "source": [
    "def make_single_matrix(size, Y, r, withtime=True):\n",
    "    if withtime:\n",
    "        now = time.time()\n",
    "    Q = size\n",
    "    zjlist = make_zj_list(Y, Q)\n",
    "    zjstarlist = make_zjstar_list(zjlist)\n",
    "    if withtime:\n",
    "        print(\"lists made in {}\".format(time.time() - now))\n",
    "    matrix = []\n",
    "    B = []\n",
    "    for n in range(-Q, Q+1):\n",
    "        if withtime:\n",
    "            now = time.time()\n",
    "        if n == 0:\n",
    "            continue\n",
    "        row = []\n",
    "        for l in range(-Q, Q+1):\n",
    "            if l == 0:\n",
    "                continue\n",
    "            entry = CDF(V(n, l, zjlist, CDF(r), CDF(Q), zjstarlist=zjstarlist))\n",
    "            if n == l:\n",
    "                #entry = entry - sqrt(Y) * bessel_K(i*r, 2 * pi * abs(n) * Y)\n",
    "                entry = entry - CDF(sqrt(Y)) * kappa(r, 2 * pi * abs(n) * Y)\n",
    "            if l != 1:\n",
    "                row.append(entry.n())\n",
    "            else:\n",
    "                B.append([-entry.n()])\n",
    "                #if n == 1:\n",
    "                #    print(V(n, l, zjlist, r, Q, zjstarlist=zjstarlist))\n",
    "                #    print(sqrt(Y) * kappa(r, 2 * pi * abs(n) * Y))\n",
    "        matrix.append(row)\n",
    "        if withtime:\n",
    "            print(\"row {} computed in {} seconds\".format(n, time.time() - now))\n",
    "    return matrix, B"
   ]
  },
  {
   "cell_type": "code",
   "execution_count": null,
   "metadata": {},
   "outputs": [],
   "source": [
    "make_single_matrixe_matrixl"
   ]
  }
 ],
 "metadata": {
  "kernelspec": {
   "display_name": "SageMath 8.9",
   "language": "sage",
   "name": "sagemath"
  },
  "language_info": {
   "codemirror_mode": {
    "name": "ipython",
    "version": 3
   },
   "file_extension": ".py",
   "mimetype": "text/x-python",
   "name": "python",
   "nbconvert_exporter": "python",
   "pygments_lexer": "ipython3",
   "version": "3.7.3"
  }
 },
 "nbformat": 4,
 "nbformat_minor": 2
}
