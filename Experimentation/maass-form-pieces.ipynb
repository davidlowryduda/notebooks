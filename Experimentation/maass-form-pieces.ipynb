{
 "cells": [
  {
   "cell_type": "markdown",
   "metadata": {},
   "source": [
    "# Maass form pieces\n",
    "\n",
    "This is a log of pieces assembled together for the computation of Maass forms."
   ]
  },
  {
   "cell_type": "code",
   "execution_count": 1,
   "metadata": {},
   "outputs": [],
   "source": [
    "CC = ComplexField(200)"
   ]
  },
  {
   "cell_type": "markdown",
   "metadata": {},
   "source": [
    "## Overview\n",
    "\n",
    "We apply Hejhal's method for the computation of a weight $0$ Maass form on level $1$. This is the simplest possible case. We first implement this in a simple, slow manner.\n",
    "\n",
    "For a description of the method, refer to my note `202002191140` on Hejhal's algorithm."
   ]
  },
  {
   "cell_type": "markdown",
   "metadata": {},
   "source": [
    "## Pullbacks of points to the fundamental domain\n",
    "\n",
    "Given a point $z \\in \\mathcal{H}$, we need to compute its image $z^*$ in the fundamental domain. More generally, we will want to track the matrix used (although it has no effect in the weight $0$ no-nebentypus Maass form case). This will later be generalized to fundamental domains of more general congruence subgroups --- but that will build upon this technique.\n",
    "\n",
    "To do this, we iteratively apply $T: z \\mapsto z + 1$ and $S: z \\mapsto -1/z$ until the point is within the fundamental domain. Our fundamental domain will be the standard one, where $-1/2 \\leq x \\leq 1/2$ and $\\lvert z \\rvert \\geq 1$ (where $z = x + iy$)."
   ]
  },
  {
   "cell_type": "code",
   "execution_count": 2,
   "metadata": {},
   "outputs": [],
   "source": [
    "T = matrix([[1, 1], [0, 1]])\n",
    "S = matrix([[0, -1], [1, 0]])\n",
    "Id = matrix([[1, 0], [0, 1]])\n",
    "\n",
    "def act(gamma, z):\n",
    "    \"\"\"\n",
    "    Computes the action of matrix gamma on point z\n",
    "    \"\"\"\n",
    "    a, b = gamma[0]\n",
    "    c, d = gamma[1]\n",
    "    return (a*z + b)/ (c*z + d)"
   ]
  },
  {
   "cell_type": "code",
   "execution_count": 3,
   "metadata": {},
   "outputs": [],
   "source": [
    "def is_in_fund_domain(z):\n",
    "    \"\"\"\n",
    "    True if z is in fundamental domain, False otherwise.\n",
    "    \"\"\"\n",
    "    x = z.real()\n",
    "    if x < -1/2 or x > 1/2:\n",
    "        return False\n",
    "    if z.norm() < 1:\n",
    "        return False\n",
    "    return True\n",
    "\n",
    "\n",
    "def pullback(z):\n",
    "    \"\"\"\n",
    "    Returns matrix gamma, point z^*, where gamma z = z^* and z^* is in the fundamental domain\n",
    "    \"\"\"\n",
    "    gamma = Id\n",
    "    while not is_in_fund_domain(z):\n",
    "        x, y = z.real(), z.imag()\n",
    "        xshift = -floor(x + .5)\n",
    "        gamma = T**xshift * gamma\n",
    "        z = x + xshift + i*y\n",
    "        if z.norm() < 1:\n",
    "            z = act(S, z)\n",
    "            gamma = S * gamma\n",
    "    return gamma, z"
   ]
  },
  {
   "cell_type": "code",
   "execution_count": 4,
   "metadata": {},
   "outputs": [
    {
     "data": {
      "text/plain": [
       "(\n",
       "[-2  7]\n",
       "[ 1 -4],\n",
       "\n",
       "2.0000000000000000000000000000000000000000000000000000000000*I\n",
       ")"
      ]
     },
     "execution_count": 4,
     "metadata": {},
     "output_type": "execute_result"
    }
   ],
   "source": [
    "pullback(CC(3.75 + .25*i))"
   ]
  },
  {
   "cell_type": "markdown",
   "metadata": {},
   "source": [
    "## K-Bessel functions"
   ]
  },
  {
   "cell_type": "markdown",
   "metadata": {},
   "source": [
    "I require the modified Bessel function of the second kind, denoted by $K_s(x)$. These are implemented in sage as `bessel_K(s, x)`."
   ]
  },
  {
   "cell_type": "code",
   "execution_count": 5,
   "metadata": {},
   "outputs": [
    {
     "data": {
      "text/plain": [
       "0.040156431128194184376705780152684814907243962964308889073382"
      ]
     },
     "execution_count": 5,
     "metadata": {},
     "output_type": "execute_result"
    }
   ],
   "source": [
    "bessel_K(CC(1.0), CC(3.0))"
   ]
  },
  {
   "cell_type": "code",
   "execution_count": 6,
   "metadata": {},
   "outputs": [],
   "source": [
    "#def kappa(r, u):\n",
    "#    return (exp(CC(pi) * CC(r) / 2) * bessel_K(CC(i*r), CC(u)))\n",
    "def kappa(r, u):\n",
    "    return bessel_K(CC(i*r), CC(u))"
   ]
  },
  {
   "cell_type": "markdown",
   "metadata": {},
   "source": [
    "## Setting up the linear system\n",
    "\n",
    "We will be approximating a Maass form $f$ by its first $M = 50$ (in this case) coefficients,\n",
    "$$\n",
    "f(z) \\approx \\sum_{0 < \\lvert n \\rvert < 50} a(n) \\sqrt{Y} \\kappa_{ir}(2 \\pi \\lvert n \\rvert Y) e(nx),\n",
    "$$\n",
    "where\n",
    "$$ \\kappa_{ir}(u) = e^{\\pi r / 2} K_{ir}(u) $$ is a normalized $K$-bessel function and where $z = x + iY$ for some $Y$.\n",
    "\n",
    "Let $z_j = x_j + iY = (1/2Q)(j - 1/2) + iY$ where $1 - Q \\leq j \\leq Q$, where for us $Q = 50$ (in this case). Then summing across these points isolates a single coefficient (indeed, this is Fourier inversion)\n",
    "$$\n",
    "a(n) \\sqrt{Y} \\kappa_{ir}(2 \\pi \\lvert n \\rvert Y)\n",
    "=\n",
    "\\frac{1}{2Q}\n",
    "\\sum_{j = 1-Q}^Q f(z_j) e(-nx_j).\n",
    "$$\n"
   ]
  },
  {
   "cell_type": "code",
   "execution_count": 7,
   "metadata": {},
   "outputs": [],
   "source": [
    "def make_zj_list(Y, Q=50):\n",
    "    \"\"\"\n",
    "    Returns list of z_j = x_j + iY\n",
    "    \"\"\"\n",
    "    ret = []\n",
    "    for j in range(1-Q, Q+1):\n",
    "        ret.append(CC(1/(2*Q)*(j - 0.5) + i*Y))\n",
    "    return ret"
   ]
  },
  {
   "cell_type": "code",
   "execution_count": 8,
   "metadata": {},
   "outputs": [
    {
     "name": "stdout",
     "output_type": "stream",
     "text": [
      "-0.43750000000000000000000000000000000000000000000000000000000 + 0.50000000000000000000000000000000000000000000000000000000000*I\n",
      "-0.31250000000000000000000000000000000000000000000000000000000 + 0.50000000000000000000000000000000000000000000000000000000000*I\n",
      "-0.18750000000000000000000000000000000000000000000000000000000 + 0.50000000000000000000000000000000000000000000000000000000000*I\n",
      "-0.062500000000000000000000000000000000000000000000000000000000 + 0.50000000000000000000000000000000000000000000000000000000000*I\n",
      "0.062500000000000000000000000000000000000000000000000000000000 + 0.50000000000000000000000000000000000000000000000000000000000*I\n",
      "0.18750000000000000000000000000000000000000000000000000000000 + 0.50000000000000000000000000000000000000000000000000000000000*I\n",
      "0.31250000000000000000000000000000000000000000000000000000000 + 0.50000000000000000000000000000000000000000000000000000000000*I\n",
      "0.43750000000000000000000000000000000000000000000000000000000 + 0.50000000000000000000000000000000000000000000000000000000000*I\n"
     ]
    }
   ],
   "source": [
    "test_zj_list = make_zj_list(0.5, Q=4)\n",
    "for elem in test_zj_list:\n",
    "    print(elem)"
   ]
  },
  {
   "cell_type": "markdown",
   "metadata": {},
   "source": [
    "Let $z_j^* = x_j^* + i y_j^*$ denote the pullback of $z_j$ to the fundamental domain."
   ]
  },
  {
   "cell_type": "code",
   "execution_count": 9,
   "metadata": {},
   "outputs": [],
   "source": [
    "def make_zjstar_list(zjlist):\n",
    "    \"\"\"\n",
    "    Returns list of z_j^* in same order as zjlist\n",
    "    \"\"\"\n",
    "    return list(map(lambda zj: pullback(zj)[1], zjlist))"
   ]
  },
  {
   "cell_type": "code",
   "execution_count": 10,
   "metadata": {},
   "outputs": [
    {
     "name": "stdout",
     "output_type": "stream",
     "text": [
      "[-0.0088495575221238938053097345132743362831858407079646017699114 + 1.1327433628318584070796460176991150442477876106194690265487*I, -0.10112359550561797752808988764044943820224719101123595505618 + 1.4382022471910112359550561797752808988764044943820224719101*I, -0.34246575342465753424657534246575342465753424657534246575342 + 1.7534246575342465753424657534246575342465753424657534246575*I, 0.24615384615384615384615384615384615384615384615384615384615 + 1.9692307692307692307692307692307692307692307692307692307692*I, -0.24615384615384615384615384615384615384615384615384615384615 + 1.9692307692307692307692307692307692307692307692307692307692*I, 0.34246575342465753424657534246575342465753424657534246575342 + 1.7534246575342465753424657534246575342465753424657534246575*I, 0.10112359550561797752808988764044943820224719101123595505618 + 1.4382022471910112359550561797752808988764044943820224719101*I, 0.0088495575221238938053097345132743362831858407079646017699114 + 1.1327433628318584070796460176991150442477876106194690265487*I]\n"
     ]
    }
   ],
   "source": [
    "test_zjstar_list = make_zjstar_list(test_zj_list)\n",
    "print(test_zjstar_list)"
   ]
  },
  {
   "cell_type": "code",
   "execution_count": 11,
   "metadata": {},
   "outputs": [
    {
     "name": "stdout",
     "output_type": "stream",
     "text": [
      "Passed.\n"
     ]
    }
   ],
   "source": [
    "def perform_sanity_check_zjstar(zjlist, zjstarlist):\n",
    "    for zj, zjstar in zip(zjlist, zjstarlist):\n",
    "        mat, _ = pullback(zj)\n",
    "        assert (act(mat, CC(zj)) - zjstar).norm() < 0.00000001\n",
    "    print(\"Passed.\")\n",
    "perform_sanity_check_zjstar(test_zj_list, test_zjstar_list)"
   ]
  },
  {
   "cell_type": "markdown",
   "metadata": {},
   "source": [
    "\n",
    "As $f$ is weight $0$, we have that $f(z_j) = f(z_j^*)$. Then we also have\n",
    "$$a(n) \\sqrt{Y} \\kappa_{ir}(2 \\pi \\lvert n \\rvert Y)\n",
    "=\n",
    "\\frac{1}{2Q}\n",
    "\\sum_{j = 1-Q}^Q f(z_j^*) e(-nx_j).\n",
    "$$\n",
    "To approximate each $f(z_j^*)$, we again represent $f$ by its first $50$ coefficients,\n",
    "$$\n",
    "f(z_j^*)\n",
    "\\approx\n",
    "\\sum_{0 < \\lvert \\ell \\rvert \\leq 50} a(\\ell) \\sqrt{y_j^*} \\kappa_{ir}(2 \\pi \\lvert \\ell \\rvert y_j^*) e(\\ell x_j^*).\n",
    "$$\n",
    "\n",
    "Inserting this above and collecting, we find that\n",
    "$$\\tag{1}\n",
    "a(n) \\sqrt Y \\kappa_{ir}(2 \\pi \\lvert n \\rvert Y)\n",
    "=\n",
    "\\sum_{0 < \\lvert \\ell \\rvert \\leq 50}\n",
    "a(\\ell) V(n, \\ell)\n",
    "$$\n",
    "where\n",
    "$$\n",
    "V(n, \\ell) = \\frac{1}{2Q}\n",
    "\\sum_{j = 1 - Q}^Q \\sqrt{y_j^*}\n",
    "\\kappa_{ir}(2 \\pi \\lvert \\ell \\rvert y_j^*)\n",
    "e(\\ell x_j^* - nx_j).\n",
    "$$\n",
    "\n",
    "The idea is to consider equation $(1)$ for $\\lvert n \\rvert \\leq 50$, and this system is a linear system. By using the pullbacks $z_j^*$, we hope that this system is non-trivial.\n",
    "\n",
    "In principle this system remains uncertain since $cf(z)$ is a Maass form with the same eigenvalue for any constant $c$. To get around that, we specify that $a(1) = 1$. **Note that in general this might not always work, since sometimes $a(1)$ could be zero.** But for the initial testing this is sufficient.\n",
    "\n",
    "**Note also that this normalization convention does not agree with the current system in the LMFDB. The difference is caused by the choice of $K_{ir}$ vs $\\kappa_{ir}$.**"
   ]
  },
  {
   "cell_type": "code",
   "execution_count": 12,
   "metadata": {},
   "outputs": [],
   "source": [
    "def V(n, l, zjlist, r, Q, zjstarlist=None):\n",
    "    \"\"\"\n",
    "    Return the constant V(n, l) --- which also depends on zj, r, and Q --- as\n",
    "    defined above.\n",
    "    \"\"\"\n",
    "    if zjstarlist is None:\n",
    "        zjstarlist = make_zjstar_list(zjlist)\n",
    "    ret = CC(0)\n",
    "    assert len(zjstarlist) == 2*Q\n",
    "    for zj, zjs in zip(zjlist, zjstarlist):\n",
    "        xj = zj.real()\n",
    "        xjs = zjs.real()\n",
    "        yjs = zjs.imag()\n",
    "        ret += CC(sqrt(yjs)) * kappa(r, 2 * pi * abs(l) * yjs) * CC(exp(2*pi*i*(l * xjs - n * xj)))\n",
    "    ret = ret / (2*Q)\n",
    "    return ret"
   ]
  },
  {
   "cell_type": "code",
   "execution_count": 13,
   "metadata": {},
   "outputs": [
    {
     "data": {
      "text/plain": [
       "-0.000012993689505186155312210168421624636000761467477215333142220"
      ]
     },
     "execution_count": 13,
     "metadata": {},
     "output_type": "execute_result"
    }
   ],
   "source": [
    "V(3, 1, test_zj_list, 9.5**.5, 4)\n",
    "#V(3, 1, test_zj_list, 9.5**.5, 4) * exp(pi * 9.5**.5 / 2).n()"
   ]
  },
  {
   "cell_type": "markdown",
   "metadata": {},
   "source": [
    "### Writing this system as a matrix\n",
    "\n",
    "For initial sage implementation, we will write this system as a matrix equality $MA = B$ and invert to find the coefficients $A = M^{-1}B$.\n",
    "\n",
    "Let us describe how this is done.\n",
    "\n",
    "We gather the elements from equation $(1)$ to one side\n",
    "$$\n",
    "0 =\n",
    "\\sum_{0 < \\lvert \\ell \\rvert \\leq 50}\n",
    "a(\\ell) V(n, \\ell) - a(n) \\sqrt Y \\kappa_{ir}(2 \\pi \\lvert n \\rvert Y)\n",
    "= \\sum_{0 < \\lvert \\ell \\rvert \\leq 50}\n",
    "a(\\ell) C(n, \\ell)\n",
    "$$\n",
    "where\n",
    "$$\n",
    "C(n, \\ell) = V(n, \\ell) - \\delta_{[\\ell = n]}\\sqrt Y \\kappa_{ir}(2 \\pi \\lvert n \\rvert Y).\n",
    "$$"
   ]
  },
  {
   "cell_type": "code",
   "execution_count": 14,
   "metadata": {},
   "outputs": [],
   "source": [
    "def make_matrix(size, Y, r):\n",
    "    Q = size\n",
    "    zjlist = make_zj_list(Y, Q)\n",
    "    zjstarlist = make_zjstar_list(zjlist)\n",
    "    matrix = []\n",
    "    B = []\n",
    "    for n in range(-Q, Q+1):\n",
    "        if n == 0:\n",
    "            continue\n",
    "        row = []\n",
    "        for l in range(-Q, Q+1):\n",
    "            if l == 0:\n",
    "                continue\n",
    "            entry = V(n, l, zjlist, r, Q, zjstarlist=zjstarlist)\n",
    "            if n == l:\n",
    "                #entry = entry - sqrt(Y) * bessel_K(i*r, 2 * pi * abs(n) * Y)\n",
    "                entry = entry - CC(sqrt(Y)) * kappa(r, 2 * pi * abs(n) * Y)\n",
    "            if l != 1:\n",
    "                row.append(entry.n())\n",
    "            else:\n",
    "                B.append([-entry.n()])\n",
    "                #if n == 1:\n",
    "                #    print(V(n, l, zjlist, r, Q, zjstarlist=zjstarlist))\n",
    "                #    print(sqrt(Y) * kappa(r, 2 * pi * abs(n) * Y))\n",
    "        matrix.append(row)\n",
    "    return matrix, B"
   ]
  },
  {
   "cell_type": "code",
   "execution_count": 15,
   "metadata": {},
   "outputs": [],
   "source": [
    "Q = 8\n",
    "Y = 0.28\n",
    "r = 9.53369526135\n",
    "#testmat, testB = make_matrix(20, 0.5, 3)\n",
    "testmat, testB = make_matrix(Q, Y, r)"
   ]
  },
  {
   "cell_type": "code",
   "execution_count": 16,
   "metadata": {},
   "outputs": [],
   "source": [
    "mm = matrix(CC, testmat[1:])\n",
    "Bm = matrix(CC, testB[1:])"
   ]
  },
  {
   "cell_type": "code",
   "execution_count": 17,
   "metadata": {},
   "outputs": [
    {
     "data": {
      "text/plain": [
       "(15, 15)"
      ]
     },
     "execution_count": 17,
     "metadata": {},
     "output_type": "execute_result"
    }
   ],
   "source": [
    "mm.dimensions()"
   ]
  },
  {
   "cell_type": "code",
   "execution_count": 18,
   "metadata": {},
   "outputs": [
    {
     "data": {
      "text/plain": [
       "(15, 1)"
      ]
     },
     "execution_count": 18,
     "metadata": {},
     "output_type": "execute_result"
    }
   ],
   "source": [
    "Bm.dimensions()"
   ]
  },
  {
   "cell_type": "code",
   "execution_count": 19,
   "metadata": {},
   "outputs": [],
   "source": [
    "res = mm.inverse() * Bm"
   ]
  },
  {
   "cell_type": "code",
   "execution_count": 20,
   "metadata": {},
   "outputs": [],
   "source": [
    "indices = [i for i in range(-Q, Q) if i != 0 and i != 1]"
   ]
  },
  {
   "cell_type": "code",
   "execution_count": 21,
   "metadata": {},
   "outputs": [
    {
     "name": "stdout",
     "output_type": "stream",
     "text": [
      "-8 6.4157544562365146548858143608220917283411576292889316678872e8\n",
      "-7 0.79398588483254169060190553817159296824648991745527033713374\n",
      "-6 -0.48869648248955248964144172677800488133893576519410226067621\n",
      "-5 0.29060778593455862111935858467119788376219040833872730000608\n",
      "-4 -0.14133144592729883680754136296860334915243101467454409799988\n",
      "-3 0.45618698845447073224592895792305038640209508835578046500397\n",
      "-2 1.0683306960901101812070990835770265345429723987682838515171\n",
      "-1 -0.99999973796300082084985438066206152084904638856675890829703\n",
      "2 -1.0683309222437650395580746603078205520405730996289936310880\n",
      "3 -0.45618716040659037490677578064708539434592142993882763497112\n",
      "4 0.14133135970703934157375597487885141885209669017730925613956\n",
      "5 -0.29060775341373558097451957193823860527065179074570686719313\n",
      "6 0.48869644137367958229822274582503068303730522226235968400310\n",
      "7 -0.79398579222528793246829958189579714083393512823859457916859\n"
     ]
    }
   ],
   "source": [
    "for index, re in zip(indices, res):\n",
    "    print(index, re[0].real())"
   ]
  },
  {
   "cell_type": "code",
   "execution_count": null,
   "metadata": {},
   "outputs": [],
   "source": []
  },
  {
   "cell_type": "code",
   "execution_count": 22,
   "metadata": {},
   "outputs": [
    {
     "name": "stdout",
     "output_type": "stream",
     "text": [
      "-1.0683309222437650395580746603078205520405730996289936310880\n",
      "-0.45618716040659037490677578064708539434592142993882763497112\n",
      "-0.29060775341373558097451957193823860527065179074570686719313\n"
     ]
    }
   ],
   "source": [
    "def error(res):\n",
    "    resdict = dict()\n",
    "    for index, re in zip(indices, res):\n",
    "        resdict[index] = re[0].real()\n",
    "    print(resdict[2])\n",
    "    print(resdict[3])\n",
    "    print(resdict[5])\n",
    "error(res)"
   ]
  },
  {
   "cell_type": "code",
   "execution_count": 23,
   "metadata": {},
   "outputs": [
    {
     "data": {
      "text/plain": [
       "-0.79398579222528793246829958189579714083393512823859457916859 + 3.7266102356198848368739841315777795666405764908791108183318e-62*I"
      ]
     },
     "execution_count": 23,
     "metadata": {},
     "output_type": "execute_result"
    }
   ],
   "source": [
    "re[0]"
   ]
  },
  {
   "cell_type": "code",
   "execution_count": 24,
   "metadata": {},
   "outputs": [
    {
     "data": {
      "text/plain": [
       "9.53369526135000"
      ]
     },
     "execution_count": 24,
     "metadata": {},
     "output_type": "execute_result"
    }
   ],
   "source": [
    "r"
   ]
  },
  {
   "cell_type": "code",
   "execution_count": null,
   "metadata": {},
   "outputs": [],
   "source": []
  },
  {
   "cell_type": "code",
   "execution_count": null,
   "metadata": {},
   "outputs": [],
   "source": []
  },
  {
   "cell_type": "markdown",
   "metadata": {},
   "source": [
    "The column corresponding to $a(1) = 1$ is known, so to see the equation directly we might rewrite this as\n",
    "$$\n",
    "-a(1)C(n, 1) = \\sum_{\\substack{0 < \\lvert \\ell \\rvert \\leq 50 \\\\ \\ell \\neq 1}} a(\\ell) C(n \\ell)\n",
    "$$\n",
    "Letting $B$ denote the matrix from the $C(n, 1)$, $M$ denote the matrix of the $C(n, \\ell)$, and $A$ denote the matrix of the $a(\\ell)$ with $\\ell \\neq 1$, this equation is of the form\n",
    "$$ B = MA, $$\n",
    "and thus we solve for $A$ by computing $M^{-1}B$."
   ]
  },
  {
   "cell_type": "markdown",
   "metadata": {},
   "source": [
    "There are implementation details concerning the ordering of the rows in the matrix, but the idea is now clear."
   ]
  },
  {
   "cell_type": "code",
   "execution_count": null,
   "metadata": {},
   "outputs": [],
   "source": []
  },
  {
   "cell_type": "markdown",
   "metadata": {},
   "source": [
    "## Iteratively improving a solution\n",
    "\n",
    "We can now produce a list of coefficients for a given $Q$, $Y$, and $r$. To find an actual solution, we will need to solve along a grid, find a candidate spot, and then increase the precision around that point."
   ]
  },
  {
   "cell_type": "code",
   "execution_count": 25,
   "metadata": {},
   "outputs": [],
   "source": [
    "def solve_for_coeffs(Q, Y, r):\n",
    "    mat, B = make_matrix(Q, Y, r)\n",
    "    mm = matrix(CC, mat[1:])\n",
    "    Bm = matrix(CC, B[1:])\n",
    "    res = mm.inverse() * Bm\n",
    "    indices = [i for i in range(-Q, Q) if i != 0 and i != 1]\n",
    "    resdict = dict()\n",
    "    for index, re in zip(indices, res):\n",
    "        resdict[index] = re[0].real()\n",
    "    return resdict"
   ]
  },
  {
   "cell_type": "code",
   "execution_count": 26,
   "metadata": {},
   "outputs": [],
   "source": [
    "coeffdict = solve_for_coeffs(Q, Y, r)"
   ]
  },
  {
   "cell_type": "code",
   "execution_count": 27,
   "metadata": {},
   "outputs": [
    {
     "data": {
      "text/plain": [
       "{-8: 6.4157544562365146548858143608220917283411576292889316678872e8,\n",
       " -7: 0.79398588483254169060190553817159296824648991745527033713374,\n",
       " -6: -0.48869648248955248964144172677800488133893576519410226067621,\n",
       " -5: 0.29060778593455862111935858467119788376219040833872730000608,\n",
       " -4: -0.14133144592729883680754136296860334915243101467454409799988,\n",
       " -3: 0.45618698845447073224592895792305038640209508835578046500397,\n",
       " -2: 1.0683306960901101812070990835770265345429723987682838515171,\n",
       " -1: -0.99999973796300082084985438066206152084904638856675890829703,\n",
       " 2: -1.0683309222437650395580746603078205520405730996289936310880,\n",
       " 3: -0.45618716040659037490677578064708539434592142993882763497112,\n",
       " 4: 0.14133135970703934157375597487885141885209669017730925613956,\n",
       " 5: -0.29060775341373558097451957193823860527065179074570686719313,\n",
       " 6: 0.48869644137367958229822274582503068303730522226235968400310,\n",
       " 7: -0.79398579222528793246829958189579714083393512823859457916859}"
      ]
     },
     "execution_count": 27,
     "metadata": {},
     "output_type": "execute_result"
    }
   ],
   "source": [
    "coeffdict"
   ]
  },
  {
   "cell_type": "code",
   "execution_count": 28,
   "metadata": {},
   "outputs": [],
   "source": [
    "def error_func(r, Y1=0.28, Y2=0.3, Q=8):\n",
    "    coeffdict1 = solve_for_coeffs(Q, Y1, r)\n",
    "    coeffdict2 = solve_for_coeffs(Q, Y2, r)\n",
    "    return ((coeffdict1[2] - coeffdict2[2])**2\n",
    "            + (coeffdict1[3] - coeffdict2[3])**2 \n",
    "            + (coeffdict1[5] - coeffdict2[5])**2)"
   ]
  },
  {
   "cell_type": "code",
   "execution_count": 29,
   "metadata": {},
   "outputs": [
    {
     "data": {
      "text/plain": [
       "1.7618177420874112733521873280846517142664220172427439221671e-9"
      ]
     },
     "execution_count": 29,
     "metadata": {},
     "output_type": "execute_result"
    }
   ],
   "source": [
    "error_func(r)"
   ]
  },
  {
   "cell_type": "code",
   "execution_count": 30,
   "metadata": {},
   "outputs": [
    {
     "data": {
      "text/plain": [
       "0.41964919464141267087240721520978768203272616705931502702889"
      ]
     },
     "execution_count": 30,
     "metadata": {},
     "output_type": "execute_result"
    }
   ],
   "source": [
    "error_func(r - 0.01)"
   ]
  },
  {
   "cell_type": "code",
   "execution_count": 31,
   "metadata": {},
   "outputs": [],
   "source": [
    "def secant_method_single_iteration(r1, r2):\n",
    "    e1 = error_func(r1)\n",
    "    e2 = error_func(r2)\n",
    "    return (r2*e1 - r1*e2)/(e1 - e2)"
   ]
  },
  {
   "cell_type": "code",
   "execution_count": 32,
   "metadata": {},
   "outputs": [
    {
     "name": "stdout",
     "output_type": "stream",
     "text": [
      "9.53137227572494\n"
     ]
    }
   ],
   "source": [
    "r1 = 9.51\n",
    "r2 = 9.52\n",
    "r3 = secant_method_single_iteration(9.51, 9.52)\n",
    "print(r3)"
   ]
  },
  {
   "cell_type": "code",
   "execution_count": 33,
   "metadata": {},
   "outputs": [
    {
     "name": "stdout",
     "output_type": "stream",
     "text": [
      "9.53209776882166\n"
     ]
    }
   ],
   "source": [
    "r4 = secant_method_single_iteration(r2, r3)\n",
    "print(r4)"
   ]
  },
  {
   "cell_type": "code",
   "execution_count": 34,
   "metadata": {},
   "outputs": [
    {
     "name": "stdout",
     "output_type": "stream",
     "text": [
      "9.53282728641699\n"
     ]
    }
   ],
   "source": [
    "r5 = secant_method_single_iteration(r3, r4)\n",
    "print(r5)"
   ]
  },
  {
   "cell_type": "code",
   "execution_count": 35,
   "metadata": {},
   "outputs": [
    {
     "name": "stdout",
     "output_type": "stream",
     "text": [
      "9.53316070754963\n"
     ]
    }
   ],
   "source": [
    "r6 = secant_method_single_iteration(r4, r5)\n",
    "print(r6)"
   ]
  },
  {
   "cell_type": "code",
   "execution_count": 36,
   "metadata": {},
   "outputs": [
    {
     "name": "stdout",
     "output_type": "stream",
     "text": [
      "9.53337406353245\n"
     ]
    }
   ],
   "source": [
    "r7 = secant_method_single_iteration(r5, r6)\n",
    "print(r7)"
   ]
  },
  {
   "cell_type": "code",
   "execution_count": 37,
   "metadata": {},
   "outputs": [
    {
     "name": "stdout",
     "output_type": "stream",
     "text": [
      "9.53349815596829\n"
     ]
    }
   ],
   "source": [
    "r8 = secant_method_single_iteration(r6, r7)\n",
    "print(r8)"
   ]
  },
  {
   "cell_type": "code",
   "execution_count": null,
   "metadata": {},
   "outputs": [],
   "source": []
  },
  {
   "cell_type": "code",
   "execution_count": 38,
   "metadata": {},
   "outputs": [
    {
     "name": "stdout",
     "output_type": "stream",
     "text": [
      "Iteration 1:   error 0.0236952613499994\n",
      "Iteration 2:   error 0.0136952613499997\n",
      "Iteration 3:   error 0.00232298562505839\n",
      "Iteration 4:   error 0.00159749252833663\n",
      "Iteration 5:   error 0.000867974933006721\n",
      "Iteration 6:   error 0.000534553800370929\n",
      "Iteration 7:   error 0.000321197817553909\n",
      "Iteration 8:   error 0.000197105381714024\n"
     ]
    }
   ],
   "source": [
    "for idx, rval in enumerate((r1, r2, r3, r4, r5, r6, r7, r8), 1):\n",
    "    print(\"Iteration {}:   error {}\".format(idx, abs(rval - r)))"
   ]
  },
  {
   "cell_type": "code",
   "execution_count": 39,
   "metadata": {},
   "outputs": [
    {
     "name": "stdout",
     "output_type": "stream",
     "text": [
      "Iteration 1:   error_ratio 0.0236952613499994\n",
      "Iteration 2:   error_ratio 0.577974690707515\n",
      "Iteration 3:   error_ratio 0.169619663742923\n",
      "Iteration 4:   error_ratio 0.687689373151620\n",
      "Iteration 5:   error_ratio 0.543335832631711\n",
      "Iteration 6:   error_ratio 0.615863177660213\n",
      "Iteration 7:   error_ratio 0.600870889573749\n",
      "Iteration 8:   error_ratio 0.613657288256459\n"
     ]
    }
   ],
   "source": [
    "olderror = 1\n",
    "for idx, rval in enumerate((r1, r2, r3, r4, r5, r6, r7, r8), 1):\n",
    "    newerror = abs(rval-r)\n",
    "    error_ratio = newerror/olderror\n",
    "    print(\"Iteration {}:   error_ratio {}\".format(idx, error_ratio))\n",
    "    olderror = newerror"
   ]
  },
  {
   "cell_type": "markdown",
   "metadata": {},
   "source": [
    "This is expected to continue from abstract numerical analysis. That"
   ]
  },
  {
   "cell_type": "code",
   "execution_count": null,
   "metadata": {},
   "outputs": [],
   "source": []
  },
  {
   "cell_type": "markdown",
   "metadata": {},
   "source": [
    "## Dragons lie beneath\n",
    "\n",
    "Below is my true scratchpad. Proceed with utmost caution"
   ]
  },
  {
   "cell_type": "code",
   "execution_count": 40,
   "metadata": {},
   "outputs": [
    {
     "data": {
      "text/plain": [
       "9.53369526135000"
      ]
     },
     "execution_count": 40,
     "metadata": {},
     "output_type": "execute_result"
    }
   ],
   "source": [
    "r"
   ]
  },
  {
   "cell_type": "code",
   "execution_count": 41,
   "metadata": {},
   "outputs": [
    {
     "data": {
      "text/plain": [
       "[1 2]\n",
       "[0 1]"
      ]
     },
     "execution_count": 41,
     "metadata": {},
     "output_type": "execute_result"
    }
   ],
   "source": [
    "T**2"
   ]
  },
  {
   "cell_type": "code",
   "execution_count": 42,
   "metadata": {},
   "outputs": [
    {
     "data": {
      "text/plain": [
       "-3"
      ]
     },
     "execution_count": 42,
     "metadata": {},
     "output_type": "execute_result"
    }
   ],
   "source": [
    "floor(-2.65)"
   ]
  },
  {
   "cell_type": "code",
   "execution_count": 43,
   "metadata": {},
   "outputs": [],
   "source": [
    "a = 1 + i"
   ]
  },
  {
   "cell_type": "code",
   "execution_count": 44,
   "metadata": {},
   "outputs": [
    {
     "data": {
      "text/plain": [
       "True"
      ]
     },
     "execution_count": 44,
     "metadata": {},
     "output_type": "execute_result"
    }
   ],
   "source": [
    "a.is_numeric()"
   ]
  },
  {
   "cell_type": "code",
   "execution_count": 45,
   "metadata": {},
   "outputs": [],
   "source": [
    "a = 1 + 0.2*i"
   ]
  },
  {
   "cell_type": "code",
   "execution_count": 46,
   "metadata": {},
   "outputs": [
    {
     "data": {
      "text/plain": [
       "-0.961538461538461 + 0.192307692307692*I"
      ]
     },
     "execution_count": 46,
     "metadata": {},
     "output_type": "execute_result"
    }
   ],
   "source": [
    "act(S, a)"
   ]
  },
  {
   "cell_type": "code",
   "execution_count": 47,
   "metadata": {},
   "outputs": [
    {
     "data": {
      "text/plain": [
       "pi"
      ]
     },
     "execution_count": 47,
     "metadata": {},
     "output_type": "execute_result"
    }
   ],
   "source": [
    "pi"
   ]
  },
  {
   "cell_type": "code",
   "execution_count": 48,
   "metadata": {},
   "outputs": [
    {
     "data": {
      "text/plain": [
       "1"
      ]
     },
     "execution_count": 48,
     "metadata": {},
     "output_type": "execute_result"
    }
   ],
   "source": [
    "exp(2 * i * pi)"
   ]
  },
  {
   "cell_type": "code",
   "execution_count": null,
   "metadata": {},
   "outputs": [],
   "source": []
  },
  {
   "cell_type": "markdown",
   "metadata": {},
   "source": [
    "## Testing against a handwritten example"
   ]
  },
  {
   "cell_type": "code",
   "execution_count": 49,
   "metadata": {},
   "outputs": [],
   "source": [
    "Q = 3\n",
    "Y = 0.5\n",
    "r = 3\n",
    "#testmat, testB = make_matrix(20, 0.5, 9.5336952**.5)\n",
    "testmat, testB = make_matrix(Q, Y, r)\n",
    "mm = matrix(testmat[:-1])\n",
    "Bm = matrix(testB[:-1])"
   ]
  },
  {
   "cell_type": "code",
   "execution_count": 50,
   "metadata": {},
   "outputs": [
    {
     "data": {
      "text/plain": [
       "-5/12"
      ]
     },
     "execution_count": 50,
     "metadata": {},
     "output_type": "execute_result"
    }
   ],
   "source": [
    "(-2 - 1/2)/6"
   ]
  },
  {
   "cell_type": "code",
   "execution_count": 51,
   "metadata": {},
   "outputs": [],
   "source": [
    "zj_3 = make_zj_list(0.5, 3)"
   ]
  },
  {
   "cell_type": "code",
   "execution_count": 52,
   "metadata": {},
   "outputs": [
    {
     "data": {
      "text/plain": [
       "[-0.41666666666666662965923251249478198587894439697265625000000 + 0.50000000000000000000000000000000000000000000000000000000000*I,\n",
       " -0.25000000000000000000000000000000000000000000000000000000000 + 0.50000000000000000000000000000000000000000000000000000000000*I,\n",
       " -0.083333333333333328707404064061847748234868049621582031250000 + 0.50000000000000000000000000000000000000000000000000000000000*I,\n",
       " 0.083333333333333328707404064061847748234868049621582031250000 + 0.50000000000000000000000000000000000000000000000000000000000*I,\n",
       " 0.25000000000000000000000000000000000000000000000000000000000 + 0.50000000000000000000000000000000000000000000000000000000000*I,\n",
       " 0.41666666666666662965923251249478198587894439697265625000000 + 0.50000000000000000000000000000000000000000000000000000000000*I]"
      ]
     },
     "execution_count": 52,
     "metadata": {},
     "output_type": "execute_result"
    }
   ],
   "source": [
    "zj_3"
   ]
  },
  {
   "cell_type": "code",
   "execution_count": 53,
   "metadata": {},
   "outputs": [
    {
     "name": "stdout",
     "output_type": "stream",
     "text": [
      "([-1 -1]\n",
      "[ 1  0], -0.016393442622950835425900483796904443668236005421915226691100 + 1.1803278688524591023230935479830939855878536536969874423346*I)\n",
      "([-1 -1]\n",
      "[ 1  0], -0.20000000000000000000000000000000000000000000000000000000000 + 1.6000000000000000000000000000000000000000000000000000000000*I)\n",
      "([ 0 -1]\n",
      "[ 1  0], 0.32432432432432430729387617448627651144468671439589640575954 + 1.9459459459459459517849567401761335961787100427788811259143*I)\n",
      "([ 0 -1]\n",
      "[ 1  0], -0.32432432432432430729387617448627651144468671439589640575954 + 1.9459459459459459517849567401761335961787100427788811259143*I)\n",
      "([ 1 -1]\n",
      "[ 1  0], 0.20000000000000000000000000000000000000000000000000000000000 + 1.6000000000000000000000000000000000000000000000000000000000*I)\n",
      "([ 1 -1]\n",
      "[ 1  0], 0.016393442622950835425900483796904443668236005421915226691100 + 1.1803278688524591023230935479830939855878536536969874423346*I)\n"
     ]
    }
   ],
   "source": [
    "for zj in zj_3:\n",
    "    print(pullback(zj))"
   ]
  },
  {
   "cell_type": "code",
   "execution_count": 54,
   "metadata": {},
   "outputs": [
    {
     "data": {
      "text/plain": [
       "(\n",
       "[-1 -1]                                                                                                                                  \n",
       "[ 1  0], -0.016393442622950835425900483796904443668236005421915226691100 + 1.1803278688524591023230935479830939855878536536969874423346*I\n",
       ")"
      ]
     },
     "execution_count": 54,
     "metadata": {},
     "output_type": "execute_result"
    }
   ],
   "source": [
    "pullback(zj_3[0])"
   ]
  },
  {
   "cell_type": "code",
   "execution_count": 55,
   "metadata": {},
   "outputs": [
    {
     "data": {
      "text/plain": [
       "-0.016393442622950835425900483796904443668236005421915226691100 + 1.1803278688524591023230935479830939855878536536969874423346*I"
      ]
     },
     "execution_count": 55,
     "metadata": {},
     "output_type": "execute_result"
    }
   ],
   "source": [
    "act(T^-1*S, zj_3[0])"
   ]
  },
  {
   "cell_type": "code",
   "execution_count": 56,
   "metadata": {},
   "outputs": [
    {
     "data": {
      "text/plain": [
       "[-0.016393442622950835425900483796904443668236005421915226691100 + 1.1803278688524591023230935479830939855878536536969874423346*I,\n",
       " -0.20000000000000000000000000000000000000000000000000000000000 + 1.6000000000000000000000000000000000000000000000000000000000*I,\n",
       " 0.32432432432432430729387617448627651144468671439589640575954 + 1.9459459459459459517849567401761335961787100427788811259143*I,\n",
       " -0.32432432432432430729387617448627651144468671439589640575954 + 1.9459459459459459517849567401761335961787100427788811259143*I,\n",
       " 0.20000000000000000000000000000000000000000000000000000000000 + 1.6000000000000000000000000000000000000000000000000000000000*I,\n",
       " 0.016393442622950835425900483796904443668236005421915226691100 + 1.1803278688524591023230935479830939855878536536969874423346*I]"
      ]
     },
     "execution_count": 56,
     "metadata": {},
     "output_type": "execute_result"
    }
   ],
   "source": [
    "make_zjstar_list(zj_3)"
   ]
  },
  {
   "cell_type": "code",
   "execution_count": 57,
   "metadata": {},
   "outputs": [
    {
     "data": {
      "text/plain": [
       "-0.0000170899516493093 - 0.000165364752818340*I"
      ]
     },
     "execution_count": 57,
     "metadata": {},
     "output_type": "execute_result"
    }
   ],
   "source": [
    "numerical_approx(sqrt(1.18032) * kappa(3, 2*pi*1.18032) * exp(2 * pi * i * ( -0.01639 - (-3)*(-5/12) ) ))"
   ]
  },
  {
   "cell_type": "code",
   "execution_count": 58,
   "metadata": {},
   "outputs": [
    {
     "data": {
      "text/plain": [
       "0.0000131599122182715 + 4.27591468041249e-6*I"
      ]
     },
     "execution_count": 58,
     "metadata": {},
     "output_type": "execute_result"
    }
   ],
   "source": [
    "numerical_approx(sqrt(1.6) * kappa(3, 2*pi*1.6) * exp(2 * pi * i * ( -0.2 - (-3)*(-3/12) ) ))"
   ]
  },
  {
   "cell_type": "code",
   "execution_count": 59,
   "metadata": {},
   "outputs": [
    {
     "data": {
      "text/plain": [
       "1.51764917621145e-6 + 7.65130897293286e-7*I"
      ]
     },
     "execution_count": 59,
     "metadata": {},
     "output_type": "execute_result"
    }
   ],
   "source": [
    "numerical_approx(sqrt(1.94594) * kappa(3, 2*pi*1.9459) * exp(2 * pi * i * ( 0.32432- (-3)*(-1/12) ) ))"
   ]
  },
  {
   "cell_type": "code",
   "execution_count": 60,
   "metadata": {},
   "outputs": [
    {
     "data": {
      "text/plain": [
       "1.51764917621145e-6 - 7.65130897293286e-7*I"
      ]
     },
     "execution_count": 60,
     "metadata": {},
     "output_type": "execute_result"
    }
   ],
   "source": [
    "numerical_approx(sqrt(1.94594) * kappa(3, 2*pi*1.9459) * exp(2 * pi * i * ( -0.32432- (-3)*(1/12) ) ))"
   ]
  },
  {
   "cell_type": "code",
   "execution_count": 61,
   "metadata": {},
   "outputs": [
    {
     "data": {
      "text/plain": [
       "0.0000131599122182715 - 4.27591468041249e-6*I"
      ]
     },
     "execution_count": 61,
     "metadata": {},
     "output_type": "execute_result"
    }
   ],
   "source": [
    "numerical_approx(sqrt(1.6) * kappa(3, 2*pi*1.6) * exp(2 * pi * i * ( 0.2 - (-3)*(3/12) ) ))"
   ]
  },
  {
   "cell_type": "code",
   "execution_count": 62,
   "metadata": {},
   "outputs": [
    {
     "data": {
      "text/plain": [
       "-0.0000170899516493093 + 0.000165364752818340*I"
      ]
     },
     "execution_count": 62,
     "metadata": {},
     "output_type": "execute_result"
    }
   ],
   "source": [
    "numerical_approx(sqrt(1.18032) * kappa(3, 2*pi*1.18032) * exp(2 * pi * i * ( 0.01639 - (-3)*(5/12) ) ))"
   ]
  },
  {
   "cell_type": "code",
   "execution_count": 63,
   "metadata": {},
   "outputs": [
    {
     "data": {
      "text/plain": [
       "-0.0000895333333333333"
      ]
     },
     "execution_count": 63,
     "metadata": {},
     "output_type": "execute_result"
    }
   ],
   "source": [
    "2*(-.0019024 + .0014649 + 0.0001689)/6"
   ]
  },
  {
   "cell_type": "code",
   "execution_count": 64,
   "metadata": {},
   "outputs": [
    {
     "data": {
      "text/plain": [
       "-8.0521627790273278708641846497788844322476007334751155389176e-7"
      ]
     },
     "execution_count": 64,
     "metadata": {},
     "output_type": "execute_result"
    }
   ],
   "source": [
    "V(-3, 1, zj_3, 3, 3)"
   ]
  },
  {
   "cell_type": "markdown",
   "metadata": {},
   "source": [
    "These agree."
   ]
  },
  {
   "cell_type": "code",
   "execution_count": 65,
   "metadata": {},
   "outputs": [
    {
     "data": {
      "text/plain": [
       "[   8.05216277902733e-7]\n",
       "[-0.0000313789019948180]\n",
       "[ 0.0000549377932823682]\n",
       "[   0.00561406525439900]\n",
       "[-0.0000206344504554006]"
      ]
     },
     "execution_count": 65,
     "metadata": {},
     "output_type": "execute_result"
    }
   ],
   "source": [
    "Bm"
   ]
  },
  {
   "cell_type": "code",
   "execution_count": 66,
   "metadata": {},
   "outputs": [
    {
     "data": {
      "text/plain": [
       "0.0000678820441314201 - 0.000151755052655871*I"
      ]
     },
     "execution_count": 66,
     "metadata": {},
     "output_type": "execute_result"
    }
   ],
   "source": [
    "numerical_approx(sqrt(1.18032) * kappa(3, 2*pi*1.18032) * exp(2 * pi * i * ( -0.01639 - (2)*(-5/12) ) ))"
   ]
  },
  {
   "cell_type": "code",
   "execution_count": 67,
   "metadata": {},
   "outputs": [
    {
     "data": {
      "text/plain": [
       "-4.27591468041249e-6 + 0.0000131599122182715*I"
      ]
     },
     "execution_count": 67,
     "metadata": {},
     "output_type": "execute_result"
    }
   ],
   "source": [
    "numerical_approx(sqrt(1.6) * kappa(3, 2*pi*1.6) * exp(2 * pi * i * ( -0.2 - (2)*(-3/12) ) ))"
   ]
  },
  {
   "cell_type": "code",
   "execution_count": 68,
   "metadata": {},
   "outputs": [
    {
     "data": {
      "text/plain": [
       "-1.69688818927829e-6 + 9.62017938293585e-8*I"
      ]
     },
     "execution_count": 68,
     "metadata": {},
     "output_type": "execute_result"
    }
   ],
   "source": [
    "numerical_approx(sqrt(1.94594) * kappa(3, 2*pi*1.9459) * exp(2 * pi * i * ( 0.32432- (2)*(-1/12) ) ))"
   ]
  },
  {
   "cell_type": "code",
   "execution_count": 69,
   "metadata": {},
   "outputs": [
    {
     "data": {
      "text/plain": [
       "-1.69688818927829e-6 - 9.62017938293585e-8*I"
      ]
     },
     "execution_count": 69,
     "metadata": {},
     "output_type": "execute_result"
    }
   ],
   "source": [
    "numerical_approx(sqrt(1.94594) * kappa(3, 2*pi*1.9459) * exp(2 * pi * i * ( -0.32432- (2)*(1/12) ) ))"
   ]
  },
  {
   "cell_type": "code",
   "execution_count": 70,
   "metadata": {},
   "outputs": [
    {
     "data": {
      "text/plain": [
       "-4.27591468041249e-6 - 0.0000131599122182715*I"
      ]
     },
     "execution_count": 70,
     "metadata": {},
     "output_type": "execute_result"
    }
   ],
   "source": [
    "numerical_approx(sqrt(1.6) * kappa(3, 2*pi*1.6) * exp(2 * pi * i * ( 0.2 - (2)*(3/12) ) ))"
   ]
  },
  {
   "cell_type": "code",
   "execution_count": 71,
   "metadata": {},
   "outputs": [
    {
     "data": {
      "text/plain": [
       "0.0000678820441314201 + 0.000151755052655871*I"
      ]
     },
     "execution_count": 71,
     "metadata": {},
     "output_type": "execute_result"
    }
   ],
   "source": [
    "numerical_approx(sqrt(1.18032) * kappa(3, 2*pi*1.18032) * exp(2 * pi * i * ( 0.01639 - (2)*(5/12) ) ))"
   ]
  },
  {
   "cell_type": "code",
   "execution_count": 72,
   "metadata": {},
   "outputs": [
    {
     "data": {
      "text/plain": [
       "0.00229753333333333"
      ]
     },
     "execution_count": 72,
     "metadata": {},
     "output_type": "execute_result"
    }
   ],
   "source": [
    "2*(0.0075564 - 0.000475 - 0.0001888)/6"
   ]
  },
  {
   "cell_type": "code",
   "execution_count": 73,
   "metadata": {},
   "outputs": [
    {
     "data": {
      "text/plain": [
       "0.000020634450455400589886769461998824757738221104770682702795137"
      ]
     },
     "execution_count": 73,
     "metadata": {},
     "output_type": "execute_result"
    }
   ],
   "source": [
    "V(2, 1, zj_3, 3, 3)"
   ]
  },
  {
   "cell_type": "code",
   "execution_count": 74,
   "metadata": {},
   "outputs": [
    {
     "data": {
      "text/plain": [
       "0.00557309258961281"
      ]
     },
     "execution_count": 74,
     "metadata": {},
     "output_type": "execute_result"
    }
   ],
   "source": [
    "sqrt(0.5) * kappa(3, pi)"
   ]
  },
  {
   "cell_type": "code",
   "execution_count": 75,
   "metadata": {},
   "outputs": [
    {
     "name": "stdout",
     "output_type": "stream",
     "text": [
      "-0.000134665101006562 + 0.0000974827086869198*I\n",
      "0.0000131599122182715 + 4.27591468041249e-6*I\n",
      "-1.42144738238209e-6 + 9.31757291985001e-7*I\n",
      "-1.42144738238209e-6 - 9.31757291985001e-7*I\n",
      "0.0000131599122182715 - 4.27591468041249e-6*I\n",
      "-0.000134665101006562 - 0.0000974827086869198*I\n"
     ]
    }
   ],
   "source": [
    "print(numerical_approx(sqrt(1.18032) * kappa(3, 2*pi*1.18032) * exp(2 * pi * i * ( -0.01639 - (1)*(-5/12) ) )))\n",
    "print(numerical_approx(sqrt(1.6) * kappa(3, 2*pi*1.6) * exp(2 * pi * i * ( -0.2 - (1)*(-3/12) ) )))\n",
    "print(numerical_approx(sqrt(1.94594) * kappa(3, 2*pi*1.9459) * exp(2 * pi * i * ( 0.32432- (1)*(-1/12) ) )))\n",
    "print(numerical_approx(sqrt(1.94594) * kappa(3, 2*pi*1.9459) * exp(2 * pi * i * ( -0.32432- (1)*(1/12) ) )))\n",
    "print(numerical_approx(sqrt(1.6) * kappa(3, 2*pi*1.6) * exp(2 * pi * i * ( 0.2 - (1)*(3/12) ) )))\n",
    "print(numerical_approx(sqrt(1.18032) * kappa(3, 2*pi*1.18032) * exp(2 * pi * i * ( 0.01639 - (1)*(5/12) ) )))"
   ]
  },
  {
   "cell_type": "code",
   "execution_count": 76,
   "metadata": {},
   "outputs": [
    {
     "data": {
      "text/plain": [
       "-0.00454333333333333"
      ]
     },
     "execution_count": 76,
     "metadata": {},
     "output_type": "execute_result"
    }
   ],
   "source": [
    "(-0.01499 + 0.00146 - 0.0001)*2/6"
   ]
  },
  {
   "cell_type": "code",
   "execution_count": 77,
   "metadata": {},
   "outputs": [
    {
     "data": {
      "text/plain": [
       "-0.000040972664786193975048908458421967887381102430997560701505075"
      ]
     },
     "execution_count": 77,
     "metadata": {},
     "output_type": "execute_result"
    }
   ],
   "source": [
    "V(1, 1, zj_3, 3, 3)"
   ]
  },
  {
   "cell_type": "code",
   "execution_count": 78,
   "metadata": {},
   "outputs": [
    {
     "data": {
      "text/plain": [
       "0.624944000000000"
      ]
     },
     "execution_count": 78,
     "metadata": {},
     "output_type": "execute_result"
    }
   ],
   "source": [
    "0.620384 + 0.00456"
   ]
  },
  {
   "cell_type": "code",
   "execution_count": 79,
   "metadata": {},
   "outputs": [
    {
     "data": {
      "text/plain": [
       "[   8.05216277902733e-7]\n",
       "[-0.0000313789019948180]\n",
       "[ 0.0000549377932823682]\n",
       "[   0.00561406525439900]\n",
       "[-0.0000206344504554006]"
      ]
     },
     "execution_count": 79,
     "metadata": {},
     "output_type": "execute_result"
    }
   ],
   "source": [
    "Bm"
   ]
  },
  {
   "cell_type": "code",
   "execution_count": 80,
   "metadata": {
    "scrolled": true
   },
   "outputs": [
    {
     "name": "stdout",
     "output_type": "stream",
     "text": [
      "8.0521627790273278708641846497788844322476007334751155389176e-7\n",
      "-0.000031378901994818004058548814816573132427093818296336187805905\n",
      "0.000054937793282368243093733375486743926615606826936923833954761\n",
      "0.00561406525439901\n",
      "-0.000020634450455400589886769461998824757738221104770682702795137\n"
     ]
    }
   ],
   "source": [
    "for n in range(-3, 3):\n",
    "    if n == 0:\n",
    "        continue\n",
    "    if n == 1:\n",
    "        print(sqrt(0.5)*kappa(3, pi) - V(1, 1, zj_3, 3, 3))\n",
    "        continue\n",
    "    print(-V(n, 1, zj_3, 3, 3))"
   ]
  },
  {
   "cell_type": "markdown",
   "metadata": {},
   "source": [
    "The construction of B appears to be correct."
   ]
  },
  {
   "cell_type": "code",
   "execution_count": 81,
   "metadata": {},
   "outputs": [
    {
     "name": "stdout",
     "output_type": "stream",
     "text": [
      "2.95066791798738e-8 - 8.97492980023567e-8*I\n",
      "4.23356756340555e-10 + 3.07586687999816e-10*I\n",
      "2.81163373028717e-12 - 6.46310647776134e-12*I\n",
      "2.81163373028717e-12 + 6.46310647776134e-12*I\n",
      "4.23356756340555e-10 - 3.07586687999816e-10*I\n",
      "2.95066791798738e-8 + 8.97492980023567e-8*I\n"
     ]
    }
   ],
   "source": [
    "print(numerical_approx(sqrt(1.18032) * kappa(3, 2*pi*2*1.18032) * exp(2 * pi * i * ( 2*(-0.01639) - (2)*(-5/12) ) )))\n",
    "print(numerical_approx(sqrt(1.6) * kappa(3, 2*pi*2*1.6) * exp(2 * pi * i * ( 2*(-0.2) - (2)*(-3/12) ) )))\n",
    "print(numerical_approx(sqrt(1.94594) * kappa(3, 2*pi*2*1.9459) * exp(2 * pi * i * ( 2*0.32432- (2)*(-1/12) ) )))\n",
    "print(numerical_approx(sqrt(1.94594) * kappa(3, 2*pi*2*1.9459) * exp(2 * pi * i * ( 2*(-0.32432)- (2)*(1/12) ) )))\n",
    "print(numerical_approx(sqrt(1.6) * kappa(3, 2*pi*2*1.6) * exp(2 * pi * i * ( 2*0.2 - (2)*(3/12) ) )))\n",
    "print(numerical_approx(sqrt(1.18032) * kappa(3, 2*pi*2*1.18032) * exp(2 * pi * i * ( 2*0.01639 - (2)*(5/12) ) )))"
   ]
  },
  {
   "cell_type": "code",
   "execution_count": 82,
   "metadata": {},
   "outputs": [
    {
     "data": {
      "text/plain": [
       "9.97761585664821e-9"
      ]
     },
     "execution_count": 82,
     "metadata": {},
     "output_type": "execute_result"
    }
   ],
   "source": [
    "sum([numerical_approx(sqrt(1.18032) * kappa(3, 2*pi*2*1.18032) * exp(2 * pi * i * ( 2*(-0.01639) - (2)*(-5/12) ) )),\n",
    "numerical_approx(sqrt(1.6) * kappa(3, 2*pi*2*1.6) * exp(2 * pi * i * ( 2*(-0.2) - (2)*(-3/12) ) )),\n",
    "numerical_approx(sqrt(1.94594) * kappa(3, 2*pi*2*1.9459) * exp(2 * pi * i * ( 2*0.32432- (2)*(-1/12) ) )),\n",
    "numerical_approx(sqrt(1.94594) * kappa(3, 2*pi*2*1.9459) * exp(2 * pi * i * ( 2*(-0.32432)- (2)*(1/12) ) )),\n",
    "numerical_approx(sqrt(1.6) * kappa(3, 2*pi*2*1.6) * exp(2 * pi * i * ( 2*0.2 - (2)*(3/12) ) )),\n",
    "numerical_approx(sqrt(1.18032) * kappa(3, 2*pi*2*1.18032) * exp(2 * pi * i * ( 2*0.01639 - (2)*(5/12) ) ))])/6"
   ]
  },
  {
   "cell_type": "code",
   "execution_count": 83,
   "metadata": {},
   "outputs": [
    {
     "data": {
      "text/plain": [
       "9.9753681592983991485396160351763832420881374883237208574905e-9"
      ]
     },
     "execution_count": 83,
     "metadata": {},
     "output_type": "execute_result"
    }
   ],
   "source": [
    "V(2, 2, zj_3, 3, 3)"
   ]
  },
  {
   "cell_type": "markdown",
   "metadata": {},
   "source": [
    "A random middle element seems to agree as well. Look at the incredibly small sizes, though. Perhaps I'm suffering only from precision problems."
   ]
  },
  {
   "cell_type": "code",
   "execution_count": 84,
   "metadata": {},
   "outputs": [],
   "source": [
    "Mmat = matrix(testmat)"
   ]
  },
  {
   "cell_type": "code",
   "execution_count": 85,
   "metadata": {},
   "outputs": [
    {
     "data": {
      "text/plain": [
       "(6, 5)"
      ]
     },
     "execution_count": 85,
     "metadata": {},
     "output_type": "execute_result"
    }
   ],
   "source": [
    "Mmat.dimensions()"
   ]
  },
  {
   "cell_type": "code",
   "execution_count": 86,
   "metadata": {},
   "outputs": [
    {
     "name": "stdout",
     "output_type": "stream",
     "text": [
      "-0.0000145545497841146\n",
      "6.34043997137191e-9\n",
      "8.05216277902810e-7\n",
      "-6.34043997137186e-9\n",
      "-5.19661533216426e-12\n"
     ]
    }
   ],
   "source": [
    "for val in Mmat[0]:\n",
    "    print(val)"
   ]
  },
  {
   "cell_type": "code",
   "execution_count": 87,
   "metadata": {},
   "outputs": [
    {
     "name": "stdout",
     "output_type": "stream",
     "text": [
      "-0.0000145545497841146\n",
      "6.3404399713719064855947143842245940283640042765099400762678e-9\n",
      "8.0521627790280964167248803436123283632157134877355129119988e-7\n",
      "-6.3404399713718634833430597910500828073567892090290637413122e-9\n",
      "-5.1966153321642559296935066519685596058586617774822688588438e-12\n"
     ]
    }
   ],
   "source": [
    "expected = [\n",
    "    V(-3, -3, zj_3, 3, 3) - sqrt(0.5)*kappa(3, 3*pi),\n",
    "    V(-3, -2, zj_3, 3, 3),\n",
    "    V(-3, -1, zj_3, 3, 3),\n",
    "    V(-3, 2, zj_3, 3, 3),\n",
    "    V(-3, 3, zj_3, 3, 3)]\n",
    "for val in expected:\n",
    "    print(val)"
   ]
  },
  {
   "cell_type": "code",
   "execution_count": 88,
   "metadata": {},
   "outputs": [
    {
     "name": "stdout",
     "output_type": "stream",
     "text": [
      "-1.14944143550645e-11\n",
      "-2.33706142032866e-8\n",
      "-0.00561406525439900\n",
      "-3.00186408626583e-8\n",
      "-1.66793875489469e-11\n"
     ]
    }
   ],
   "source": [
    "for val in Mmat[2]:\n",
    "    print(val)"
   ]
  },
  {
   "cell_type": "code",
   "execution_count": 89,
   "metadata": {},
   "outputs": [
    {
     "name": "stdout",
     "output_type": "stream",
     "text": [
      "-1.1494414355064505333058780087661134002735421057807958944388e-11\n",
      "-2.3370614203286595754516827777518521175201803524808063831140e-8\n",
      "-0.00561406525439901\n",
      "-3.0018640862658300083633757428033970104209810314242174728140e-8\n",
      "-1.6679387548946899791640973740158287124958086230343469806929e-11\n"
     ]
    }
   ],
   "source": [
    "expected = [\n",
    "    V(-1, -3, zj_3, 3, 3),\n",
    "    V(-1, -2, zj_3, 3, 3),\n",
    "    V(-1, -1, zj_3, 3, 3) - sqrt(0.5)*kappa(3, pi),\n",
    "    V(-1, 2, zj_3, 3, 3),\n",
    "    V(-1, 3, zj_3, 3, 3)]\n",
    "for val in expected:\n",
    "    print(val)"
   ]
  },
  {
   "cell_type": "code",
   "execution_count": 90,
   "metadata": {},
   "outputs": [
    {
     "name": "stdout",
     "output_type": "stream",
     "text": [
      "-1.66793875489469e-11\n",
      "-3.00186408626583e-8\n",
      "-0.0000549377932823682\n",
      "-2.33706142032866e-8\n",
      "-1.14944143550645e-11\n"
     ]
    }
   ],
   "source": [
    "for val in Mmat[3]:\n",
    "    print(val)"
   ]
  },
  {
   "cell_type": "code",
   "execution_count": 91,
   "metadata": {},
   "outputs": [
    {
     "name": "stdout",
     "output_type": "stream",
     "text": [
      "-1.6679387548946899791640973740158287124958086230343469806929e-11\n",
      "-3.0018640862658300083633757428033970104209810314242174728140e-8\n",
      "-0.000054937793282368243093733375486743926615606826936923833954761\n",
      "-2.3370614203286595754516827777518521175201803524808063831140e-8\n",
      "-1.1494414355064505333058780087661134002735421057807958944388e-11\n"
     ]
    }
   ],
   "source": [
    "expected = [\n",
    "    V(1, -3, zj_3, 3, 3),\n",
    "    V(1, -2, zj_3, 3, 3),\n",
    "    V(1, -1, zj_3, 3, 3),\n",
    "    V(1, 2, zj_3, 3, 3),\n",
    "    V(1, 3, zj_3, 3, 3)]\n",
    "for val in expected:\n",
    "    print(val)"
   ]
  },
  {
   "cell_type": "code",
   "execution_count": 92,
   "metadata": {},
   "outputs": [
    {
     "name": "stdout",
     "output_type": "stream",
     "text": [
      "1.26354644114724e-11\n",
      "2.11283780321047e-8\n",
      "0.0000313789019948180\n",
      "-0.000329440225214611\n",
      "3.64139006416494e-12\n"
     ]
    }
   ],
   "source": [
    "for val in Mmat[4]:\n",
    "    print(val)"
   ]
  },
  {
   "cell_type": "code",
   "execution_count": 93,
   "metadata": {},
   "outputs": [
    {
     "name": "stdout",
     "output_type": "stream",
     "text": [
      "1.2635464411472388525840874530622333726317595203903594501264e-11\n",
      "2.1128378032104695755554864568307559582215501706840639647851e-8\n",
      "0.000031378901994818004058548814816573132427093818296336187805905\n",
      "-0.000329440225214611\n",
      "3.6413900641649397074444530946161812974323172282078016505231e-12\n"
     ]
    }
   ],
   "source": [
    "expected = [\n",
    "    V(2, -3, zj_3, 3, 3),\n",
    "    V(2, -2, zj_3, 3, 3),\n",
    "    V(2, -1, zj_3, 3, 3),\n",
    "    V(2, 2, zj_3, 3, 3) - sqrt(0.5)*kappa(3, 2*pi),\n",
    "    V(2, 3, zj_3, 3, 3)]\n",
    "for val in expected:\n",
    "    print(val)"
   ]
  },
  {
   "cell_type": "code",
   "execution_count": 94,
   "metadata": {},
   "outputs": [
    {
     "data": {
      "text/plain": [
       "9.53369526135000"
      ]
     },
     "execution_count": 94,
     "metadata": {},
     "output_type": "execute_result"
    }
   ],
   "source": [
    "known_r = 9.53369526135\n",
    "known_r"
   ]
  },
  {
   "cell_type": "code",
   "execution_count": null,
   "metadata": {},
   "outputs": [],
   "source": []
  },
  {
   "cell_type": "code",
   "execution_count": null,
   "metadata": {},
   "outputs": [],
   "source": []
  },
  {
   "cell_type": "code",
   "execution_count": 95,
   "metadata": {},
   "outputs": [],
   "source": [
    "z = CC(1/2 + 1/3 * i)"
   ]
  },
  {
   "cell_type": "code",
   "execution_count": 96,
   "metadata": {},
   "outputs": [
    {
     "data": {
      "text/plain": [
       "0.50000000000000000000000000000000000000000000000000000000000 + 0.33333333333333333333333333333333333333333333333333333333333*I"
      ]
     },
     "execution_count": 96,
     "metadata": {},
     "output_type": "execute_result"
    }
   ],
   "source": [
    "z"
   ]
  },
  {
   "cell_type": "code",
   "execution_count": 97,
   "metadata": {},
   "outputs": [
    {
     "data": {
      "text/plain": [
       "0.50000000000000000000000000000000000000000000000000000000000"
      ]
     },
     "execution_count": 97,
     "metadata": {},
     "output_type": "execute_result"
    }
   ],
   "source": [
    "z.real()"
   ]
  },
  {
   "cell_type": "code",
   "execution_count": 98,
   "metadata": {},
   "outputs": [
    {
     "data": {
      "text/plain": [
       "0.33333333333333333333333333333333333333333333333333333333333"
      ]
     },
     "execution_count": 98,
     "metadata": {},
     "output_type": "execute_result"
    }
   ],
   "source": [
    "z.imag()"
   ]
  },
  {
   "cell_type": "code",
   "execution_count": 99,
   "metadata": {},
   "outputs": [],
   "source": [
    "def make_single_matrix(size, Y, r, withtime=True):\n",
    "    if withtime:\n",
    "        now = time.time()\n",
    "    Q = size\n",
    "    zjlist = make_zj_list(Y, Q)\n",
    "    zjstarlist = make_zjstar_list(zjlist)\n",
    "    if withtime:\n",
    "        print(\"lists made in {}\".format(time.time() - now))\n",
    "    matrix = []\n",
    "    B = []\n",
    "    for n in range(-Q, Q+1):\n",
    "        if withtime:\n",
    "            now = time.time()\n",
    "        if n == 0:\n",
    "            continue\n",
    "        row = []\n",
    "        for l in range(-Q, Q+1):\n",
    "            if l == 0:\n",
    "                continue\n",
    "            entry = CDF(V(n, l, zjlist, CDF(r), CDF(Q), zjstarlist=zjstarlist))\n",
    "            if n == l:\n",
    "                #entry = entry - sqrt(Y) * bessel_K(i*r, 2 * pi * abs(n) * Y)\n",
    "                entry = entry - CDF(sqrt(Y)) * kappa(r, 2 * pi * abs(n) * Y)\n",
    "            if l != 1:\n",
    "                row.append(entry.n())\n",
    "            else:\n",
    "                B.append([-entry.n()])\n",
    "                #if n == 1:\n",
    "                #    print(V(n, l, zjlist, r, Q, zjstarlist=zjstarlist))\n",
    "                #    print(sqrt(Y) * kappa(r, 2 * pi * abs(n) * Y))\n",
    "        matrix.append(row)\n",
    "        if withtime:\n",
    "            print(\"row {} computed in {} seconds\".format(n, time.time() - now))\n",
    "    return matrix, B"
   ]
  },
  {
   "cell_type": "code",
   "execution_count": 100,
   "metadata": {},
   "outputs": [],
   "source": [
    "def make_single_matrix(size, Y, r):\n",
    "    Q = size\n",
    "    zjlist = make_zj_list(Y, Q)\n",
    "    zjstarlist = make_zjstar_list(zjlist)\n",
    "    matrix = []\n",
    "    for n in range(-Q, Q+1):\n",
    "        if n == 0:\n",
    "            continue\n",
    "        row = []\n",
    "        for l in range(-Q, Q+1):\n",
    "            if l == 0:\n",
    "                continue\n",
    "            entry = CDF(V(n, l, zjlist, CDF(r), CDF(Q), zjstarlist=zjstarlist) / CDF(sqrt(Y)) * kappa(r, 2 * pi * abs(n) * Y))\n",
    "            if n == l:\n",
    "                #entry = entry - sqrt(Y) * bessel_K(i*r, 2 * pi * abs(n) * Y)\n",
    "                entry = entry - 1\n",
    "            row.append(entry.n())\n",
    "        matrix.append(row)\n",
    "    return matrix"
   ]
  },
  {
   "cell_type": "code",
   "execution_count": 101,
   "metadata": {},
   "outputs": [],
   "source": [
    "Q = 8\n",
    "Y = 0.28\n",
    "r = 9.53369526135\n",
    "#testmat, testB = make_matrix(20, 0.5, 3)\n",
    "testmat = make_single_matrix(Q, Y, r)"
   ]
  },
  {
   "cell_type": "code",
   "execution_count": 102,
   "metadata": {},
   "outputs": [
    {
     "data": {
      "text/plain": [
       "[[-1.00000000000000,\n",
       "  6.76250716914684e-30,\n",
       "  2.28721444244064e-26,\n",
       "  -1.34664167710065e-23,\n",
       "  4.77828566419976e-21,\n",
       "  -1.05951473852331e-18,\n",
       "  8.32892274376649e-17,\n",
       "  1.81029235120464e-16 + 4.40011885056943e-77*I,\n",
       "  -1.81029235120464e-16 - 4.40011885056943e-77*I,\n",
       "  -8.32892274376649e-17,\n",
       "  1.05951473852331e-18,\n",
       "  -4.77828566419976e-21,\n",
       "  1.34664167710065e-23,\n",
       "  -2.28721444244064e-26,\n",
       "  -6.76250716914684e-30,\n",
       "  2.39474633814077e-31],\n",
       " [1.22384321982340e-30,\n",
       "  -1.00000000000000,\n",
       "  -4.67802750356432e-26,\n",
       "  4.17718550728856e-23,\n",
       "  -1.69565097761505e-20,\n",
       "  4.18722556049326e-18 - 2.04332696722026e-80*I,\n",
       "  -3.94661903910044e-16 + 8.36946725773420e-77*I,\n",
       "  -1.53470498343845e-15 + 3.34778690309368e-76*I,\n",
       "  3.04115656527753e-16 + 3.34778690309368e-76*I,\n",
       "  2.45005593743221e-16,\n",
       "  -3.71850231614453e-18,\n",
       "  1.86649471321958e-20,\n",
       "  -5.86882590655565e-23,\n",
       "  1.23898710250029e-25,\n",
       "  -1.02573759428308e-28,\n",
       "  -5.63152563550636e-31],\n",
       " [-4.73752736218752e-30,\n",
       "  8.72695564693753e-28,\n",
       "  -1.00000000000000,\n",
       "  -9.76234733578635e-23,\n",
       "  4.78466347429068e-20,\n",
       "  -1.32353301070225e-17,\n",
       "  1.49195169388276e-15 + 1.33087841106999e-76*I,\n",
       "  8.98915809514878e-15 - 5.32351364427996e-76*I,\n",
       "  -4.28610853971410e-16 - 1.06470272885599e-75*I,\n",
       "  -5.79497933588578e-16,\n",
       "  1.04419925592233e-17,\n",
       "  -5.85684296503069e-20,\n",
       "  2.03086247283146e-22,\n",
       "  -4.96167513661187e-25,\n",
       "  7.21751870470612e-28,\n",
       "  6.15827310595785e-31],\n",
       " [1.22825076810850e-29,\n",
       "  -2.78626296291536e-27,\n",
       "  2.70471891114543e-25,\n",
       "  -1.00000000000000,\n",
       "  -9.05857348601574e-20,\n",
       "  2.85041203582014e-17,\n",
       "  -3.80122636540089e-15 + 1.51334394040528e-76*I,\n",
       "  -2.67678553910875e-14,\n",
       "  4.40781702607392e-16 - 9.68540121859380e-75*I,\n",
       "  9.15154602744974e-16 - 1.21067515232423e-75*I,\n",
       "  -1.99278065005726e-17,\n",
       "  1.26299617157814e-19,\n",
       "  -4.81285282083363e-22,\n",
       "  1.31710328706069e-24,\n",
       "  -2.47785211819622e-27,\n",
       "  1.32600055615921e-30],\n",
       " [-1.25906982882976e-29,\n",
       "  3.29039695383576e-27,\n",
       "  -5.33966285740748e-25,\n",
       "  -3.77075102097448e-23,\n",
       "  -1.00000000000000,\n",
       "  -2.41491659692370e-17,\n",
       "  3.74778549889449e-15 - 1.43059258262746e-76*I,\n",
       "  1.72981170690878e-14 - 2.86118516525492e-75*I,\n",
       "  3.13639321558272e-15 - 1.14447406610197e-75*I,\n",
       "  -4.97004754853870e-16,\n",
       "  1.47479405845034e-17,\n",
       "  -1.08452051532953e-19,\n",
       "  4.55755854856022e-22,\n",
       "  -1.37543894617297e-24,\n",
       "  3.04295950953561e-27,\n",
       "  -3.78279901347365e-30],\n",
       " [-1.23960594473282e-29,\n",
       "  3.61884866155026e-27,\n",
       "  -7.49823360914791e-25,\n",
       "  4.91887612108116e-23,\n",
       "  3.98102504982037e-20,\n",
       "  -1.00000000000000,\n",
       "  3.40885472310707e-15,\n",
       "  -8.43758466553291e-15 + 1.00276420703203e-74*I,\n",
       "  1.57715600961890e-14 + 2.16813882601519e-75*I,\n",
       "  -8.77214512875910e-17,\n",
       "  9.73078682669864e-18,\n",
       "  -8.86580974920803e-20,\n",
       "  4.15901500418587e-22,\n",
       "  -1.37611182953531e-24,\n",
       "  3.43507317780131e-27,\n",
       "  -5.84124040107305e-30],\n",
       " [-1.30117109417555e-29,\n",
       "  4.18193279117059e-27,\n",
       "  -1.01347615146865e-24,\n",
       "  1.38622308603450e-22,\n",
       "  1.75244758794253e-20,\n",
       "  -1.54501720379475e-17,\n",
       "  -0.999999999999997 + 5.69248047005242e-76*I,\n",
       "  -3.61840227937436e-14 - 5.83479248180373e-75*I,\n",
       "  3.30472100126165e-14 + 1.13849609401048e-75*I,\n",
       "  3.96417973351485e-16,\n",
       "  5.43539747691404e-18,\n",
       "  -7.50116590641955e-20,\n",
       "  4.03571825401352e-22,\n",
       "  -1.46655564170760e-24,\n",
       "  4.04921999707813e-27,\n",
       "  -8.27014640443238e-30],\n",
       " [1.22972658647095e-29,\n",
       "  -4.32962053907825e-27,\n",
       "  1.18067649238767e-24,\n",
       "  -2.16469960807906e-22,\n",
       "  7.04693229659051e-21,\n",
       "  1.01045043918841e-17,\n",
       "  -2.42775853981563e-15 + 1.11958022030339e-75*I,\n",
       "  -0.999999999999964 - 4.47832088121355e-75*I,\n",
       "  -2.79019638334134e-14 + 1.00762219827305e-74*I,\n",
       "  -9.86958375007479e-16,\n",
       "  -3.55222214276967e-19,\n",
       "  5.33046085449663e-20,\n",
       "  -3.49185909989823e-22,\n",
       "  1.40782544507008e-24,\n",
       "  -4.26316507034278e-27,\n",
       "  9.92025085729896e-30],\n",
       " [9.92025085729896e-30,\n",
       "  -4.26316507034278e-27,\n",
       "  1.40782544507008e-24,\n",
       "  -3.49185909989823e-22,\n",
       "  5.33046085449663e-20,\n",
       "  -3.55222214276967e-19,\n",
       "  -9.86958375007479e-16,\n",
       "  -2.79019638334134e-14 - 1.00762219827305e-74*I,\n",
       "  -0.999999999999964 + 4.47832088121355e-75*I,\n",
       "  -2.42775853981563e-15 - 1.11958022030339e-75*I,\n",
       "  1.01045043918841e-17,\n",
       "  7.04693229659051e-21,\n",
       "  -2.16469960807906e-22,\n",
       "  1.18067649238767e-24,\n",
       "  -4.32962053907825e-27,\n",
       "  1.22972658647095e-29],\n",
       " [-8.27014640443238e-30,\n",
       "  4.04921999707813e-27,\n",
       "  -1.46655564170760e-24,\n",
       "  4.03571825401352e-22,\n",
       "  -7.50116590641955e-20,\n",
       "  5.43539747691404e-18,\n",
       "  3.96417973351485e-16,\n",
       "  3.30472100126165e-14 - 1.13849609401048e-75*I,\n",
       "  -3.61840227937436e-14 + 5.83479248180373e-75*I,\n",
       "  -0.999999999999997 - 5.69248047005242e-76*I,\n",
       "  -1.54501720379475e-17,\n",
       "  1.75244758794253e-20,\n",
       "  1.38622308603450e-22,\n",
       "  -1.01347615146865e-24,\n",
       "  4.18193279117059e-27,\n",
       "  -1.30117109417555e-29],\n",
       " [-5.84124040107305e-30,\n",
       "  3.43507317780131e-27,\n",
       "  -1.37611182953531e-24,\n",
       "  4.15901500418587e-22,\n",
       "  -8.86580974920803e-20,\n",
       "  9.73078682669864e-18,\n",
       "  -8.77214512875910e-17,\n",
       "  1.57715600961890e-14 - 2.16813882601519e-75*I,\n",
       "  -8.43758466553291e-15 - 1.00276420703203e-74*I,\n",
       "  3.40885472310707e-15,\n",
       "  -1.00000000000000,\n",
       "  3.98102504982037e-20,\n",
       "  4.91887612108116e-23,\n",
       "  -7.49823360914791e-25,\n",
       "  3.61884866155026e-27,\n",
       "  -1.23960594473282e-29],\n",
       " [-3.78279901347365e-30,\n",
       "  3.04295950953561e-27,\n",
       "  -1.37543894617297e-24,\n",
       "  4.55755854856022e-22,\n",
       "  -1.08452051532953e-19,\n",
       "  1.47479405845034e-17,\n",
       "  -4.97004754853870e-16,\n",
       "  3.13639321558272e-15 + 1.14447406610197e-75*I,\n",
       "  1.72981170690878e-14 + 2.86118516525492e-75*I,\n",
       "  3.74778549889449e-15 + 1.43059258262746e-76*I,\n",
       "  -2.41491659692370e-17,\n",
       "  -1.00000000000000,\n",
       "  -3.77075102097448e-23,\n",
       "  -5.33966285740748e-25,\n",
       "  3.29039695383576e-27,\n",
       "  -1.25906982882976e-29],\n",
       " [1.32600055615921e-30,\n",
       "  -2.47785211819622e-27,\n",
       "  1.31710328706069e-24,\n",
       "  -4.81285282083363e-22,\n",
       "  1.26299617157814e-19,\n",
       "  -1.99278065005726e-17,\n",
       "  9.15154602744974e-16 + 1.21067515232423e-75*I,\n",
       "  4.40781702607392e-16 + 9.68540121859380e-75*I,\n",
       "  -2.67678553910875e-14,\n",
       "  -3.80122636540089e-15 - 1.51334394040528e-76*I,\n",
       "  2.85041203582014e-17,\n",
       "  -9.05857348601574e-20,\n",
       "  -1.00000000000000,\n",
       "  2.70471891114543e-25,\n",
       "  -2.78626296291536e-27,\n",
       "  1.22825076810850e-29],\n",
       " [6.15827310595785e-31,\n",
       "  7.21751870470612e-28,\n",
       "  -4.96167513661187e-25,\n",
       "  2.03086247283146e-22,\n",
       "  -5.85684296503069e-20,\n",
       "  1.04419925592233e-17,\n",
       "  -5.79497933588578e-16,\n",
       "  -4.28610853971410e-16 + 1.06470272885599e-75*I,\n",
       "  8.98915809514878e-15 + 5.32351364427996e-76*I,\n",
       "  1.49195169388276e-15 - 1.33087841106999e-76*I,\n",
       "  -1.32353301070225e-17,\n",
       "  4.78466347429068e-20,\n",
       "  -9.76234733578635e-23,\n",
       "  -1.00000000000000,\n",
       "  8.72695564693753e-28,\n",
       "  -4.73752736218752e-30],\n",
       " [-5.63152563550636e-31,\n",
       "  -1.02573759428308e-28,\n",
       "  1.23898710250029e-25,\n",
       "  -5.86882590655565e-23,\n",
       "  1.86649471321958e-20,\n",
       "  -3.71850231614453e-18,\n",
       "  2.45005593743221e-16,\n",
       "  3.04115656527753e-16 - 3.34778690309368e-76*I,\n",
       "  -1.53470498343845e-15 - 3.34778690309368e-76*I,\n",
       "  -3.94661903910044e-16 - 8.36946725773420e-77*I,\n",
       "  4.18722556049326e-18 + 2.04332696722026e-80*I,\n",
       "  -1.69565097761505e-20,\n",
       "  4.17718550728856e-23,\n",
       "  -4.67802750356432e-26,\n",
       "  -1.00000000000000,\n",
       "  1.22384321982340e-30],\n",
       " [2.39474633814077e-31,\n",
       "  -6.76250716914684e-30,\n",
       "  -2.28721444244064e-26,\n",
       "  1.34664167710065e-23,\n",
       "  -4.77828566419976e-21,\n",
       "  1.05951473852331e-18,\n",
       "  -8.32892274376649e-17,\n",
       "  -1.81029235120464e-16 + 4.40011885056943e-77*I,\n",
       "  1.81029235120464e-16 - 4.40011885056943e-77*I,\n",
       "  8.32892274376649e-17,\n",
       "  -1.05951473852331e-18,\n",
       "  4.77828566419976e-21,\n",
       "  -1.34664167710065e-23,\n",
       "  2.28721444244064e-26,\n",
       "  6.76250716914684e-30,\n",
       "  -1.00000000000000]]"
      ]
     },
     "execution_count": 102,
     "metadata": {},
     "output_type": "execute_result"
    }
   ],
   "source": [
    "testmat"
   ]
  },
  {
   "cell_type": "code",
   "execution_count": 103,
   "metadata": {},
   "outputs": [
    {
     "data": {
      "text/plain": [
       "16"
      ]
     },
     "execution_count": 103,
     "metadata": {},
     "output_type": "execute_result"
    }
   ],
   "source": [
    "len(testmat)"
   ]
  },
  {
   "cell_type": "code",
   "execution_count": 104,
   "metadata": {},
   "outputs": [
    {
     "data": {
      "text/plain": [
       "16"
      ]
     },
     "execution_count": 104,
     "metadata": {},
     "output_type": "execute_result"
    }
   ],
   "source": [
    "len(testmat[0])"
   ]
  },
  {
   "cell_type": "code",
   "execution_count": 105,
   "metadata": {},
   "outputs": [],
   "source": [
    "testsagematrix = Matrix(testmat)"
   ]
  },
  {
   "cell_type": "code",
   "execution_count": 106,
   "metadata": {},
   "outputs": [],
   "source": [
    "potans = testsagematrix.rref()[0]"
   ]
  },
  {
   "cell_type": "code",
   "execution_count": 107,
   "metadata": {},
   "outputs": [
    {
     "name": "stdout",
     "output_type": "stream",
     "text": [
      "1.00000000000000\n",
      "0.000000000000000\n",
      "0.000000000000000\n",
      "0.000000000000000\n",
      "0.000000000000000\n",
      "0.000000000000000\n",
      "1.02219103766563e-107*I\n",
      "0.000000000000000\n",
      "0.000000000000000\n",
      "0.000000000000000\n",
      "0.000000000000000\n",
      "0.000000000000000\n",
      "0.000000000000000\n",
      "0.000000000000000\n",
      "0.000000000000000\n",
      "0.000000000000000\n"
     ]
    }
   ],
   "source": [
    "for entry in potans:\n",
    "    print(entry)"
   ]
  },
  {
   "cell_type": "code",
   "execution_count": null,
   "metadata": {},
   "outputs": [],
   "source": []
  }
 ],
 "metadata": {
  "kernelspec": {
   "display_name": "SageMath 8.9",
   "language": "sage",
   "name": "sagemath"
  },
  "language_info": {
   "codemirror_mode": {
    "name": "ipython",
    "version": 3
   },
   "file_extension": ".py",
   "mimetype": "text/x-python",
   "name": "python",
   "nbconvert_exporter": "python",
   "pygments_lexer": "ipython3",
   "version": "3.7.3"
  }
 },
 "nbformat": 4,
 "nbformat_minor": 2
}
